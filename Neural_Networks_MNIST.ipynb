{
  "nbformat": 4,
  "nbformat_minor": 0,
  "metadata": {
    "colab": {
      "name": "Neural Networks MNIST.ipynb",
      "provenance": [],
      "collapsed_sections": [],
      "authorship_tag": "ABX9TyN0ybWEHsBEaoIpPfedVqA/",
      "include_colab_link": true
    },
    "kernelspec": {
      "name": "python3",
      "display_name": "Python 3"
    },
    "language_info": {
      "name": "python"
    },
    "widgets": {
      "application/vnd.jupyter.widget-state+json": {
        "a8406eb551554f5089bcec5b4796d22d": {
          "model_module": "@jupyter-widgets/controls",
          "model_name": "HBoxModel",
          "state": {
            "_view_name": "HBoxView",
            "_dom_classes": [],
            "_model_name": "HBoxModel",
            "_view_module": "@jupyter-widgets/controls",
            "_model_module_version": "1.5.0",
            "_view_count": null,
            "_view_module_version": "1.5.0",
            "box_style": "",
            "layout": "IPY_MODEL_aa32a22c25544cc090fc97614ecec632",
            "_model_module": "@jupyter-widgets/controls",
            "children": [
              "IPY_MODEL_d09f2aff1eb049d68d98706609b5330a",
              "IPY_MODEL_fb1be067fca740108d9178009fd5e7c2"
            ]
          }
        },
        "aa32a22c25544cc090fc97614ecec632": {
          "model_module": "@jupyter-widgets/base",
          "model_name": "LayoutModel",
          "state": {
            "_view_name": "LayoutView",
            "grid_template_rows": null,
            "right": null,
            "justify_content": null,
            "_view_module": "@jupyter-widgets/base",
            "overflow": null,
            "_model_module_version": "1.2.0",
            "_view_count": null,
            "flex_flow": null,
            "width": null,
            "min_width": null,
            "border": null,
            "align_items": null,
            "bottom": null,
            "_model_module": "@jupyter-widgets/base",
            "top": null,
            "grid_column": null,
            "overflow_y": null,
            "overflow_x": null,
            "grid_auto_flow": null,
            "grid_area": null,
            "grid_template_columns": null,
            "flex": null,
            "_model_name": "LayoutModel",
            "justify_items": null,
            "grid_row": null,
            "max_height": null,
            "align_content": null,
            "visibility": null,
            "align_self": null,
            "height": null,
            "min_height": null,
            "padding": null,
            "grid_auto_rows": null,
            "grid_gap": null,
            "max_width": null,
            "order": null,
            "_view_module_version": "1.2.0",
            "grid_template_areas": null,
            "object_position": null,
            "object_fit": null,
            "grid_auto_columns": null,
            "margin": null,
            "display": null,
            "left": null
          }
        },
        "d09f2aff1eb049d68d98706609b5330a": {
          "model_module": "@jupyter-widgets/controls",
          "model_name": "FloatProgressModel",
          "state": {
            "_view_name": "ProgressView",
            "style": "IPY_MODEL_98ad9fa798ed4f1e873a00a659d667cc",
            "_dom_classes": [],
            "description": "",
            "_model_name": "FloatProgressModel",
            "bar_style": "success",
            "max": 9912422,
            "_view_module": "@jupyter-widgets/controls",
            "_model_module_version": "1.5.0",
            "value": 9912422,
            "_view_count": null,
            "_view_module_version": "1.5.0",
            "orientation": "horizontal",
            "min": 0,
            "description_tooltip": null,
            "_model_module": "@jupyter-widgets/controls",
            "layout": "IPY_MODEL_dad1aeb804ff455bbe363ad9fc182f81"
          }
        },
        "fb1be067fca740108d9178009fd5e7c2": {
          "model_module": "@jupyter-widgets/controls",
          "model_name": "HTMLModel",
          "state": {
            "_view_name": "HTMLView",
            "style": "IPY_MODEL_006df976d150499c804c9afe269c9e98",
            "_dom_classes": [],
            "description": "",
            "_model_name": "HTMLModel",
            "placeholder": "​",
            "_view_module": "@jupyter-widgets/controls",
            "_model_module_version": "1.5.0",
            "value": " 9913344/? [00:03&lt;00:00, 2891531.92it/s]",
            "_view_count": null,
            "_view_module_version": "1.5.0",
            "description_tooltip": null,
            "_model_module": "@jupyter-widgets/controls",
            "layout": "IPY_MODEL_a1311dcb042f4c9e946de9b7fb1301f5"
          }
        },
        "98ad9fa798ed4f1e873a00a659d667cc": {
          "model_module": "@jupyter-widgets/controls",
          "model_name": "ProgressStyleModel",
          "state": {
            "_view_name": "StyleView",
            "_model_name": "ProgressStyleModel",
            "description_width": "initial",
            "_view_module": "@jupyter-widgets/base",
            "_model_module_version": "1.5.0",
            "_view_count": null,
            "_view_module_version": "1.2.0",
            "bar_color": null,
            "_model_module": "@jupyter-widgets/controls"
          }
        },
        "dad1aeb804ff455bbe363ad9fc182f81": {
          "model_module": "@jupyter-widgets/base",
          "model_name": "LayoutModel",
          "state": {
            "_view_name": "LayoutView",
            "grid_template_rows": null,
            "right": null,
            "justify_content": null,
            "_view_module": "@jupyter-widgets/base",
            "overflow": null,
            "_model_module_version": "1.2.0",
            "_view_count": null,
            "flex_flow": null,
            "width": null,
            "min_width": null,
            "border": null,
            "align_items": null,
            "bottom": null,
            "_model_module": "@jupyter-widgets/base",
            "top": null,
            "grid_column": null,
            "overflow_y": null,
            "overflow_x": null,
            "grid_auto_flow": null,
            "grid_area": null,
            "grid_template_columns": null,
            "flex": null,
            "_model_name": "LayoutModel",
            "justify_items": null,
            "grid_row": null,
            "max_height": null,
            "align_content": null,
            "visibility": null,
            "align_self": null,
            "height": null,
            "min_height": null,
            "padding": null,
            "grid_auto_rows": null,
            "grid_gap": null,
            "max_width": null,
            "order": null,
            "_view_module_version": "1.2.0",
            "grid_template_areas": null,
            "object_position": null,
            "object_fit": null,
            "grid_auto_columns": null,
            "margin": null,
            "display": null,
            "left": null
          }
        },
        "006df976d150499c804c9afe269c9e98": {
          "model_module": "@jupyter-widgets/controls",
          "model_name": "DescriptionStyleModel",
          "state": {
            "_view_name": "StyleView",
            "_model_name": "DescriptionStyleModel",
            "description_width": "",
            "_view_module": "@jupyter-widgets/base",
            "_model_module_version": "1.5.0",
            "_view_count": null,
            "_view_module_version": "1.2.0",
            "_model_module": "@jupyter-widgets/controls"
          }
        },
        "a1311dcb042f4c9e946de9b7fb1301f5": {
          "model_module": "@jupyter-widgets/base",
          "model_name": "LayoutModel",
          "state": {
            "_view_name": "LayoutView",
            "grid_template_rows": null,
            "right": null,
            "justify_content": null,
            "_view_module": "@jupyter-widgets/base",
            "overflow": null,
            "_model_module_version": "1.2.0",
            "_view_count": null,
            "flex_flow": null,
            "width": null,
            "min_width": null,
            "border": null,
            "align_items": null,
            "bottom": null,
            "_model_module": "@jupyter-widgets/base",
            "top": null,
            "grid_column": null,
            "overflow_y": null,
            "overflow_x": null,
            "grid_auto_flow": null,
            "grid_area": null,
            "grid_template_columns": null,
            "flex": null,
            "_model_name": "LayoutModel",
            "justify_items": null,
            "grid_row": null,
            "max_height": null,
            "align_content": null,
            "visibility": null,
            "align_self": null,
            "height": null,
            "min_height": null,
            "padding": null,
            "grid_auto_rows": null,
            "grid_gap": null,
            "max_width": null,
            "order": null,
            "_view_module_version": "1.2.0",
            "grid_template_areas": null,
            "object_position": null,
            "object_fit": null,
            "grid_auto_columns": null,
            "margin": null,
            "display": null,
            "left": null
          }
        },
        "7ec6d3cb530b4777b1bae0f365aa6bd6": {
          "model_module": "@jupyter-widgets/controls",
          "model_name": "HBoxModel",
          "state": {
            "_view_name": "HBoxView",
            "_dom_classes": [],
            "_model_name": "HBoxModel",
            "_view_module": "@jupyter-widgets/controls",
            "_model_module_version": "1.5.0",
            "_view_count": null,
            "_view_module_version": "1.5.0",
            "box_style": "",
            "layout": "IPY_MODEL_cc17963c55a047a18ea7d7f0c73f7bce",
            "_model_module": "@jupyter-widgets/controls",
            "children": [
              "IPY_MODEL_74c2170ab19a4067babf0ed64314682b",
              "IPY_MODEL_b5e302956e2041b5999628488bb313bf"
            ]
          }
        },
        "cc17963c55a047a18ea7d7f0c73f7bce": {
          "model_module": "@jupyter-widgets/base",
          "model_name": "LayoutModel",
          "state": {
            "_view_name": "LayoutView",
            "grid_template_rows": null,
            "right": null,
            "justify_content": null,
            "_view_module": "@jupyter-widgets/base",
            "overflow": null,
            "_model_module_version": "1.2.0",
            "_view_count": null,
            "flex_flow": null,
            "width": null,
            "min_width": null,
            "border": null,
            "align_items": null,
            "bottom": null,
            "_model_module": "@jupyter-widgets/base",
            "top": null,
            "grid_column": null,
            "overflow_y": null,
            "overflow_x": null,
            "grid_auto_flow": null,
            "grid_area": null,
            "grid_template_columns": null,
            "flex": null,
            "_model_name": "LayoutModel",
            "justify_items": null,
            "grid_row": null,
            "max_height": null,
            "align_content": null,
            "visibility": null,
            "align_self": null,
            "height": null,
            "min_height": null,
            "padding": null,
            "grid_auto_rows": null,
            "grid_gap": null,
            "max_width": null,
            "order": null,
            "_view_module_version": "1.2.0",
            "grid_template_areas": null,
            "object_position": null,
            "object_fit": null,
            "grid_auto_columns": null,
            "margin": null,
            "display": null,
            "left": null
          }
        },
        "74c2170ab19a4067babf0ed64314682b": {
          "model_module": "@jupyter-widgets/controls",
          "model_name": "FloatProgressModel",
          "state": {
            "_view_name": "ProgressView",
            "style": "IPY_MODEL_af471e021a614345923b5d3f75e87c18",
            "_dom_classes": [],
            "description": "",
            "_model_name": "FloatProgressModel",
            "bar_style": "success",
            "max": 28881,
            "_view_module": "@jupyter-widgets/controls",
            "_model_module_version": "1.5.0",
            "value": 28881,
            "_view_count": null,
            "_view_module_version": "1.5.0",
            "orientation": "horizontal",
            "min": 0,
            "description_tooltip": null,
            "_model_module": "@jupyter-widgets/controls",
            "layout": "IPY_MODEL_81a9d55769f14a00a0697dc2bc0f936d"
          }
        },
        "b5e302956e2041b5999628488bb313bf": {
          "model_module": "@jupyter-widgets/controls",
          "model_name": "HTMLModel",
          "state": {
            "_view_name": "HTMLView",
            "style": "IPY_MODEL_f19d27373a0445c78b8c150903075b71",
            "_dom_classes": [],
            "description": "",
            "_model_name": "HTMLModel",
            "placeholder": "​",
            "_view_module": "@jupyter-widgets/controls",
            "_model_module_version": "1.5.0",
            "value": " 29696/? [00:02&lt;00:00, 14629.38it/s]",
            "_view_count": null,
            "_view_module_version": "1.5.0",
            "description_tooltip": null,
            "_model_module": "@jupyter-widgets/controls",
            "layout": "IPY_MODEL_267a450a10b04a6a9886bc1e253e430a"
          }
        },
        "af471e021a614345923b5d3f75e87c18": {
          "model_module": "@jupyter-widgets/controls",
          "model_name": "ProgressStyleModel",
          "state": {
            "_view_name": "StyleView",
            "_model_name": "ProgressStyleModel",
            "description_width": "initial",
            "_view_module": "@jupyter-widgets/base",
            "_model_module_version": "1.5.0",
            "_view_count": null,
            "_view_module_version": "1.2.0",
            "bar_color": null,
            "_model_module": "@jupyter-widgets/controls"
          }
        },
        "81a9d55769f14a00a0697dc2bc0f936d": {
          "model_module": "@jupyter-widgets/base",
          "model_name": "LayoutModel",
          "state": {
            "_view_name": "LayoutView",
            "grid_template_rows": null,
            "right": null,
            "justify_content": null,
            "_view_module": "@jupyter-widgets/base",
            "overflow": null,
            "_model_module_version": "1.2.0",
            "_view_count": null,
            "flex_flow": null,
            "width": null,
            "min_width": null,
            "border": null,
            "align_items": null,
            "bottom": null,
            "_model_module": "@jupyter-widgets/base",
            "top": null,
            "grid_column": null,
            "overflow_y": null,
            "overflow_x": null,
            "grid_auto_flow": null,
            "grid_area": null,
            "grid_template_columns": null,
            "flex": null,
            "_model_name": "LayoutModel",
            "justify_items": null,
            "grid_row": null,
            "max_height": null,
            "align_content": null,
            "visibility": null,
            "align_self": null,
            "height": null,
            "min_height": null,
            "padding": null,
            "grid_auto_rows": null,
            "grid_gap": null,
            "max_width": null,
            "order": null,
            "_view_module_version": "1.2.0",
            "grid_template_areas": null,
            "object_position": null,
            "object_fit": null,
            "grid_auto_columns": null,
            "margin": null,
            "display": null,
            "left": null
          }
        },
        "f19d27373a0445c78b8c150903075b71": {
          "model_module": "@jupyter-widgets/controls",
          "model_name": "DescriptionStyleModel",
          "state": {
            "_view_name": "StyleView",
            "_model_name": "DescriptionStyleModel",
            "description_width": "",
            "_view_module": "@jupyter-widgets/base",
            "_model_module_version": "1.5.0",
            "_view_count": null,
            "_view_module_version": "1.2.0",
            "_model_module": "@jupyter-widgets/controls"
          }
        },
        "267a450a10b04a6a9886bc1e253e430a": {
          "model_module": "@jupyter-widgets/base",
          "model_name": "LayoutModel",
          "state": {
            "_view_name": "LayoutView",
            "grid_template_rows": null,
            "right": null,
            "justify_content": null,
            "_view_module": "@jupyter-widgets/base",
            "overflow": null,
            "_model_module_version": "1.2.0",
            "_view_count": null,
            "flex_flow": null,
            "width": null,
            "min_width": null,
            "border": null,
            "align_items": null,
            "bottom": null,
            "_model_module": "@jupyter-widgets/base",
            "top": null,
            "grid_column": null,
            "overflow_y": null,
            "overflow_x": null,
            "grid_auto_flow": null,
            "grid_area": null,
            "grid_template_columns": null,
            "flex": null,
            "_model_name": "LayoutModel",
            "justify_items": null,
            "grid_row": null,
            "max_height": null,
            "align_content": null,
            "visibility": null,
            "align_self": null,
            "height": null,
            "min_height": null,
            "padding": null,
            "grid_auto_rows": null,
            "grid_gap": null,
            "max_width": null,
            "order": null,
            "_view_module_version": "1.2.0",
            "grid_template_areas": null,
            "object_position": null,
            "object_fit": null,
            "grid_auto_columns": null,
            "margin": null,
            "display": null,
            "left": null
          }
        },
        "a4e297f473ac4e8aac1659a9eff9aa1f": {
          "model_module": "@jupyter-widgets/controls",
          "model_name": "HBoxModel",
          "state": {
            "_view_name": "HBoxView",
            "_dom_classes": [],
            "_model_name": "HBoxModel",
            "_view_module": "@jupyter-widgets/controls",
            "_model_module_version": "1.5.0",
            "_view_count": null,
            "_view_module_version": "1.5.0",
            "box_style": "",
            "layout": "IPY_MODEL_e37cf264219c4ebda47f16ec9e97b60e",
            "_model_module": "@jupyter-widgets/controls",
            "children": [
              "IPY_MODEL_6278c76765064a82a4b52e473efbb00b",
              "IPY_MODEL_6201ee41ee40420cad13460cdcc9995e"
            ]
          }
        },
        "e37cf264219c4ebda47f16ec9e97b60e": {
          "model_module": "@jupyter-widgets/base",
          "model_name": "LayoutModel",
          "state": {
            "_view_name": "LayoutView",
            "grid_template_rows": null,
            "right": null,
            "justify_content": null,
            "_view_module": "@jupyter-widgets/base",
            "overflow": null,
            "_model_module_version": "1.2.0",
            "_view_count": null,
            "flex_flow": null,
            "width": null,
            "min_width": null,
            "border": null,
            "align_items": null,
            "bottom": null,
            "_model_module": "@jupyter-widgets/base",
            "top": null,
            "grid_column": null,
            "overflow_y": null,
            "overflow_x": null,
            "grid_auto_flow": null,
            "grid_area": null,
            "grid_template_columns": null,
            "flex": null,
            "_model_name": "LayoutModel",
            "justify_items": null,
            "grid_row": null,
            "max_height": null,
            "align_content": null,
            "visibility": null,
            "align_self": null,
            "height": null,
            "min_height": null,
            "padding": null,
            "grid_auto_rows": null,
            "grid_gap": null,
            "max_width": null,
            "order": null,
            "_view_module_version": "1.2.0",
            "grid_template_areas": null,
            "object_position": null,
            "object_fit": null,
            "grid_auto_columns": null,
            "margin": null,
            "display": null,
            "left": null
          }
        },
        "6278c76765064a82a4b52e473efbb00b": {
          "model_module": "@jupyter-widgets/controls",
          "model_name": "FloatProgressModel",
          "state": {
            "_view_name": "ProgressView",
            "style": "IPY_MODEL_a95f069a39314026ab9c71f3e81541da",
            "_dom_classes": [],
            "description": "",
            "_model_name": "FloatProgressModel",
            "bar_style": "success",
            "max": 1648877,
            "_view_module": "@jupyter-widgets/controls",
            "_model_module_version": "1.5.0",
            "value": 1648877,
            "_view_count": null,
            "_view_module_version": "1.5.0",
            "orientation": "horizontal",
            "min": 0,
            "description_tooltip": null,
            "_model_module": "@jupyter-widgets/controls",
            "layout": "IPY_MODEL_d3d78d1365a14fcc9c86084868561a2f"
          }
        },
        "6201ee41ee40420cad13460cdcc9995e": {
          "model_module": "@jupyter-widgets/controls",
          "model_name": "HTMLModel",
          "state": {
            "_view_name": "HTMLView",
            "style": "IPY_MODEL_c38e82e844404c0a98205f24ff40f898",
            "_dom_classes": [],
            "description": "",
            "_model_name": "HTMLModel",
            "placeholder": "​",
            "_view_module": "@jupyter-widgets/controls",
            "_model_module_version": "1.5.0",
            "value": " 1649664/? [00:00&lt;00:00, 1741678.06it/s]",
            "_view_count": null,
            "_view_module_version": "1.5.0",
            "description_tooltip": null,
            "_model_module": "@jupyter-widgets/controls",
            "layout": "IPY_MODEL_b484e974891742ac9c2fc3897e77bef2"
          }
        },
        "a95f069a39314026ab9c71f3e81541da": {
          "model_module": "@jupyter-widgets/controls",
          "model_name": "ProgressStyleModel",
          "state": {
            "_view_name": "StyleView",
            "_model_name": "ProgressStyleModel",
            "description_width": "initial",
            "_view_module": "@jupyter-widgets/base",
            "_model_module_version": "1.5.0",
            "_view_count": null,
            "_view_module_version": "1.2.0",
            "bar_color": null,
            "_model_module": "@jupyter-widgets/controls"
          }
        },
        "d3d78d1365a14fcc9c86084868561a2f": {
          "model_module": "@jupyter-widgets/base",
          "model_name": "LayoutModel",
          "state": {
            "_view_name": "LayoutView",
            "grid_template_rows": null,
            "right": null,
            "justify_content": null,
            "_view_module": "@jupyter-widgets/base",
            "overflow": null,
            "_model_module_version": "1.2.0",
            "_view_count": null,
            "flex_flow": null,
            "width": null,
            "min_width": null,
            "border": null,
            "align_items": null,
            "bottom": null,
            "_model_module": "@jupyter-widgets/base",
            "top": null,
            "grid_column": null,
            "overflow_y": null,
            "overflow_x": null,
            "grid_auto_flow": null,
            "grid_area": null,
            "grid_template_columns": null,
            "flex": null,
            "_model_name": "LayoutModel",
            "justify_items": null,
            "grid_row": null,
            "max_height": null,
            "align_content": null,
            "visibility": null,
            "align_self": null,
            "height": null,
            "min_height": null,
            "padding": null,
            "grid_auto_rows": null,
            "grid_gap": null,
            "max_width": null,
            "order": null,
            "_view_module_version": "1.2.0",
            "grid_template_areas": null,
            "object_position": null,
            "object_fit": null,
            "grid_auto_columns": null,
            "margin": null,
            "display": null,
            "left": null
          }
        },
        "c38e82e844404c0a98205f24ff40f898": {
          "model_module": "@jupyter-widgets/controls",
          "model_name": "DescriptionStyleModel",
          "state": {
            "_view_name": "StyleView",
            "_model_name": "DescriptionStyleModel",
            "description_width": "",
            "_view_module": "@jupyter-widgets/base",
            "_model_module_version": "1.5.0",
            "_view_count": null,
            "_view_module_version": "1.2.0",
            "_model_module": "@jupyter-widgets/controls"
          }
        },
        "b484e974891742ac9c2fc3897e77bef2": {
          "model_module": "@jupyter-widgets/base",
          "model_name": "LayoutModel",
          "state": {
            "_view_name": "LayoutView",
            "grid_template_rows": null,
            "right": null,
            "justify_content": null,
            "_view_module": "@jupyter-widgets/base",
            "overflow": null,
            "_model_module_version": "1.2.0",
            "_view_count": null,
            "flex_flow": null,
            "width": null,
            "min_width": null,
            "border": null,
            "align_items": null,
            "bottom": null,
            "_model_module": "@jupyter-widgets/base",
            "top": null,
            "grid_column": null,
            "overflow_y": null,
            "overflow_x": null,
            "grid_auto_flow": null,
            "grid_area": null,
            "grid_template_columns": null,
            "flex": null,
            "_model_name": "LayoutModel",
            "justify_items": null,
            "grid_row": null,
            "max_height": null,
            "align_content": null,
            "visibility": null,
            "align_self": null,
            "height": null,
            "min_height": null,
            "padding": null,
            "grid_auto_rows": null,
            "grid_gap": null,
            "max_width": null,
            "order": null,
            "_view_module_version": "1.2.0",
            "grid_template_areas": null,
            "object_position": null,
            "object_fit": null,
            "grid_auto_columns": null,
            "margin": null,
            "display": null,
            "left": null
          }
        },
        "1909ea16659049669c843f49f4c4089f": {
          "model_module": "@jupyter-widgets/controls",
          "model_name": "HBoxModel",
          "state": {
            "_view_name": "HBoxView",
            "_dom_classes": [],
            "_model_name": "HBoxModel",
            "_view_module": "@jupyter-widgets/controls",
            "_model_module_version": "1.5.0",
            "_view_count": null,
            "_view_module_version": "1.5.0",
            "box_style": "",
            "layout": "IPY_MODEL_ca02cf20e9774afba65fbfdae5bdf270",
            "_model_module": "@jupyter-widgets/controls",
            "children": [
              "IPY_MODEL_51a209fa7cf740c4bf78b5e377169bb4",
              "IPY_MODEL_b56f7d57e81c4651ac9f512d2a214c2d"
            ]
          }
        },
        "ca02cf20e9774afba65fbfdae5bdf270": {
          "model_module": "@jupyter-widgets/base",
          "model_name": "LayoutModel",
          "state": {
            "_view_name": "LayoutView",
            "grid_template_rows": null,
            "right": null,
            "justify_content": null,
            "_view_module": "@jupyter-widgets/base",
            "overflow": null,
            "_model_module_version": "1.2.0",
            "_view_count": null,
            "flex_flow": null,
            "width": null,
            "min_width": null,
            "border": null,
            "align_items": null,
            "bottom": null,
            "_model_module": "@jupyter-widgets/base",
            "top": null,
            "grid_column": null,
            "overflow_y": null,
            "overflow_x": null,
            "grid_auto_flow": null,
            "grid_area": null,
            "grid_template_columns": null,
            "flex": null,
            "_model_name": "LayoutModel",
            "justify_items": null,
            "grid_row": null,
            "max_height": null,
            "align_content": null,
            "visibility": null,
            "align_self": null,
            "height": null,
            "min_height": null,
            "padding": null,
            "grid_auto_rows": null,
            "grid_gap": null,
            "max_width": null,
            "order": null,
            "_view_module_version": "1.2.0",
            "grid_template_areas": null,
            "object_position": null,
            "object_fit": null,
            "grid_auto_columns": null,
            "margin": null,
            "display": null,
            "left": null
          }
        },
        "51a209fa7cf740c4bf78b5e377169bb4": {
          "model_module": "@jupyter-widgets/controls",
          "model_name": "FloatProgressModel",
          "state": {
            "_view_name": "ProgressView",
            "style": "IPY_MODEL_6d6895b407794c928b8ce216d0aa1ae3",
            "_dom_classes": [],
            "description": "",
            "_model_name": "FloatProgressModel",
            "bar_style": "success",
            "max": 4542,
            "_view_module": "@jupyter-widgets/controls",
            "_model_module_version": "1.5.0",
            "value": 4542,
            "_view_count": null,
            "_view_module_version": "1.5.0",
            "orientation": "horizontal",
            "min": 0,
            "description_tooltip": null,
            "_model_module": "@jupyter-widgets/controls",
            "layout": "IPY_MODEL_3a4d8517d2bf470fb0f34989e381174c"
          }
        },
        "b56f7d57e81c4651ac9f512d2a214c2d": {
          "model_module": "@jupyter-widgets/controls",
          "model_name": "HTMLModel",
          "state": {
            "_view_name": "HTMLView",
            "style": "IPY_MODEL_13167845e5284e02a4e1c0815778cdc3",
            "_dom_classes": [],
            "description": "",
            "_model_name": "HTMLModel",
            "placeholder": "​",
            "_view_module": "@jupyter-widgets/controls",
            "_model_module_version": "1.5.0",
            "value": " 5120/? [00:00&lt;00:00, 37758.42it/s]",
            "_view_count": null,
            "_view_module_version": "1.5.0",
            "description_tooltip": null,
            "_model_module": "@jupyter-widgets/controls",
            "layout": "IPY_MODEL_61b8eeb59d954f60b692568fc9b9921c"
          }
        },
        "6d6895b407794c928b8ce216d0aa1ae3": {
          "model_module": "@jupyter-widgets/controls",
          "model_name": "ProgressStyleModel",
          "state": {
            "_view_name": "StyleView",
            "_model_name": "ProgressStyleModel",
            "description_width": "initial",
            "_view_module": "@jupyter-widgets/base",
            "_model_module_version": "1.5.0",
            "_view_count": null,
            "_view_module_version": "1.2.0",
            "bar_color": null,
            "_model_module": "@jupyter-widgets/controls"
          }
        },
        "3a4d8517d2bf470fb0f34989e381174c": {
          "model_module": "@jupyter-widgets/base",
          "model_name": "LayoutModel",
          "state": {
            "_view_name": "LayoutView",
            "grid_template_rows": null,
            "right": null,
            "justify_content": null,
            "_view_module": "@jupyter-widgets/base",
            "overflow": null,
            "_model_module_version": "1.2.0",
            "_view_count": null,
            "flex_flow": null,
            "width": null,
            "min_width": null,
            "border": null,
            "align_items": null,
            "bottom": null,
            "_model_module": "@jupyter-widgets/base",
            "top": null,
            "grid_column": null,
            "overflow_y": null,
            "overflow_x": null,
            "grid_auto_flow": null,
            "grid_area": null,
            "grid_template_columns": null,
            "flex": null,
            "_model_name": "LayoutModel",
            "justify_items": null,
            "grid_row": null,
            "max_height": null,
            "align_content": null,
            "visibility": null,
            "align_self": null,
            "height": null,
            "min_height": null,
            "padding": null,
            "grid_auto_rows": null,
            "grid_gap": null,
            "max_width": null,
            "order": null,
            "_view_module_version": "1.2.0",
            "grid_template_areas": null,
            "object_position": null,
            "object_fit": null,
            "grid_auto_columns": null,
            "margin": null,
            "display": null,
            "left": null
          }
        },
        "13167845e5284e02a4e1c0815778cdc3": {
          "model_module": "@jupyter-widgets/controls",
          "model_name": "DescriptionStyleModel",
          "state": {
            "_view_name": "StyleView",
            "_model_name": "DescriptionStyleModel",
            "description_width": "",
            "_view_module": "@jupyter-widgets/base",
            "_model_module_version": "1.5.0",
            "_view_count": null,
            "_view_module_version": "1.2.0",
            "_model_module": "@jupyter-widgets/controls"
          }
        },
        "61b8eeb59d954f60b692568fc9b9921c": {
          "model_module": "@jupyter-widgets/base",
          "model_name": "LayoutModel",
          "state": {
            "_view_name": "LayoutView",
            "grid_template_rows": null,
            "right": null,
            "justify_content": null,
            "_view_module": "@jupyter-widgets/base",
            "overflow": null,
            "_model_module_version": "1.2.0",
            "_view_count": null,
            "flex_flow": null,
            "width": null,
            "min_width": null,
            "border": null,
            "align_items": null,
            "bottom": null,
            "_model_module": "@jupyter-widgets/base",
            "top": null,
            "grid_column": null,
            "overflow_y": null,
            "overflow_x": null,
            "grid_auto_flow": null,
            "grid_area": null,
            "grid_template_columns": null,
            "flex": null,
            "_model_name": "LayoutModel",
            "justify_items": null,
            "grid_row": null,
            "max_height": null,
            "align_content": null,
            "visibility": null,
            "align_self": null,
            "height": null,
            "min_height": null,
            "padding": null,
            "grid_auto_rows": null,
            "grid_gap": null,
            "max_width": null,
            "order": null,
            "_view_module_version": "1.2.0",
            "grid_template_areas": null,
            "object_position": null,
            "object_fit": null,
            "grid_auto_columns": null,
            "margin": null,
            "display": null,
            "left": null
          }
        }
      }
    }
  },
  "cells": [
    {
      "cell_type": "markdown",
      "metadata": {
        "id": "view-in-github",
        "colab_type": "text"
      },
      "source": [
        "<a href=\"https://colab.research.google.com/github/mahidher/MNIST-using-2-layer-neural-network/blob/main/Neural_Networks_MNIST.ipynb\" target=\"_parent\"><img src=\"https://colab.research.google.com/assets/colab-badge.svg\" alt=\"Open In Colab\"/></a>"
      ]
    },
    {
      "cell_type": "code",
      "metadata": {
        "id": "fmhRAwotLGX_"
      },
      "source": [
        "import torch\n",
        "import numpy as np\n",
        "import matplotlib.pyplot as plt \n"
      ],
      "execution_count": 2,
      "outputs": []
    },
    {
      "cell_type": "code",
      "metadata": {
        "id": "meoHikW8Y5Aa"
      },
      "source": [
        ""
      ],
      "execution_count": 2,
      "outputs": []
    },
    {
      "cell_type": "code",
      "metadata": {
        "id": "VdbxA1x2MnzD"
      },
      "source": [
        "import torchvision"
      ],
      "execution_count": 3,
      "outputs": []
    },
    {
      "cell_type": "code",
      "metadata": {
        "id": "DHgft0BnLlB6"
      },
      "source": [
        "from torchvision.datasets import MNIST"
      ],
      "execution_count": 4,
      "outputs": []
    },
    {
      "cell_type": "code",
      "metadata": {
        "id": "1u_c5yyPOX6E"
      },
      "source": [
        "from torchvision.transforms import ToTensor"
      ],
      "execution_count": 5,
      "outputs": []
    },
    {
      "cell_type": "code",
      "metadata": {
        "colab": {
          "base_uri": "https://localhost:8080/",
          "height": 702,
          "referenced_widgets": [
            "a8406eb551554f5089bcec5b4796d22d",
            "aa32a22c25544cc090fc97614ecec632",
            "d09f2aff1eb049d68d98706609b5330a",
            "fb1be067fca740108d9178009fd5e7c2",
            "98ad9fa798ed4f1e873a00a659d667cc",
            "dad1aeb804ff455bbe363ad9fc182f81",
            "006df976d150499c804c9afe269c9e98",
            "a1311dcb042f4c9e946de9b7fb1301f5",
            "7ec6d3cb530b4777b1bae0f365aa6bd6",
            "cc17963c55a047a18ea7d7f0c73f7bce",
            "74c2170ab19a4067babf0ed64314682b",
            "b5e302956e2041b5999628488bb313bf",
            "af471e021a614345923b5d3f75e87c18",
            "81a9d55769f14a00a0697dc2bc0f936d",
            "f19d27373a0445c78b8c150903075b71",
            "267a450a10b04a6a9886bc1e253e430a",
            "a4e297f473ac4e8aac1659a9eff9aa1f",
            "e37cf264219c4ebda47f16ec9e97b60e",
            "6278c76765064a82a4b52e473efbb00b",
            "6201ee41ee40420cad13460cdcc9995e",
            "a95f069a39314026ab9c71f3e81541da",
            "d3d78d1365a14fcc9c86084868561a2f",
            "c38e82e844404c0a98205f24ff40f898",
            "b484e974891742ac9c2fc3897e77bef2",
            "1909ea16659049669c843f49f4c4089f",
            "ca02cf20e9774afba65fbfdae5bdf270",
            "51a209fa7cf740c4bf78b5e377169bb4",
            "b56f7d57e81c4651ac9f512d2a214c2d",
            "6d6895b407794c928b8ce216d0aa1ae3",
            "3a4d8517d2bf470fb0f34989e381174c",
            "13167845e5284e02a4e1c0815778cdc3",
            "61b8eeb59d954f60b692568fc9b9921c"
          ]
        },
        "id": "YgSKM3WUMlTk",
        "outputId": "144c354f-9806-4387-f8e5-5be79760911a"
      },
      "source": [
        "dataset = MNIST(root='./sample_data',download=True,transform =ToTensor())"
      ],
      "execution_count": 6,
      "outputs": [
        {
          "output_type": "stream",
          "text": [
            "Downloading http://yann.lecun.com/exdb/mnist/train-images-idx3-ubyte.gz\n",
            "Downloading http://yann.lecun.com/exdb/mnist/train-images-idx3-ubyte.gz to ./sample_data/MNIST/raw/train-images-idx3-ubyte.gz\n",
            "Failed to download (trying next):\n",
            "HTTP Error 503: Service Unavailable\n",
            "\n",
            "Downloading https://ossci-datasets.s3.amazonaws.com/mnist/train-images-idx3-ubyte.gz\n",
            "Downloading https://ossci-datasets.s3.amazonaws.com/mnist/train-images-idx3-ubyte.gz to ./sample_data/MNIST/raw/train-images-idx3-ubyte.gz\n"
          ],
          "name": "stdout"
        },
        {
          "output_type": "display_data",
          "data": {
            "application/vnd.jupyter.widget-view+json": {
              "model_id": "a8406eb551554f5089bcec5b4796d22d",
              "version_minor": 0,
              "version_major": 2
            },
            "text/plain": [
              "HBox(children=(FloatProgress(value=0.0, max=9912422.0), HTML(value='')))"
            ]
          },
          "metadata": {
            "tags": []
          }
        },
        {
          "output_type": "stream",
          "text": [
            "\n",
            "Extracting ./sample_data/MNIST/raw/train-images-idx3-ubyte.gz to ./sample_data/MNIST/raw\n",
            "\n",
            "Downloading http://yann.lecun.com/exdb/mnist/train-labels-idx1-ubyte.gz\n",
            "Downloading http://yann.lecun.com/exdb/mnist/train-labels-idx1-ubyte.gz to ./sample_data/MNIST/raw/train-labels-idx1-ubyte.gz\n"
          ],
          "name": "stdout"
        },
        {
          "output_type": "display_data",
          "data": {
            "application/vnd.jupyter.widget-view+json": {
              "model_id": "7ec6d3cb530b4777b1bae0f365aa6bd6",
              "version_minor": 0,
              "version_major": 2
            },
            "text/plain": [
              "HBox(children=(FloatProgress(value=0.0, max=28881.0), HTML(value='')))"
            ]
          },
          "metadata": {
            "tags": []
          }
        },
        {
          "output_type": "stream",
          "text": [
            "\n",
            "Extracting ./sample_data/MNIST/raw/train-labels-idx1-ubyte.gz to ./sample_data/MNIST/raw\n",
            "\n",
            "Downloading http://yann.lecun.com/exdb/mnist/t10k-images-idx3-ubyte.gz\n",
            "Downloading http://yann.lecun.com/exdb/mnist/t10k-images-idx3-ubyte.gz to ./sample_data/MNIST/raw/t10k-images-idx3-ubyte.gz\n",
            "Failed to download (trying next):\n",
            "HTTP Error 503: Service Unavailable\n",
            "\n",
            "Downloading https://ossci-datasets.s3.amazonaws.com/mnist/t10k-images-idx3-ubyte.gz\n",
            "Downloading https://ossci-datasets.s3.amazonaws.com/mnist/t10k-images-idx3-ubyte.gz to ./sample_data/MNIST/raw/t10k-images-idx3-ubyte.gz\n"
          ],
          "name": "stdout"
        },
        {
          "output_type": "display_data",
          "data": {
            "application/vnd.jupyter.widget-view+json": {
              "model_id": "a4e297f473ac4e8aac1659a9eff9aa1f",
              "version_minor": 0,
              "version_major": 2
            },
            "text/plain": [
              "HBox(children=(FloatProgress(value=0.0, max=1648877.0), HTML(value='')))"
            ]
          },
          "metadata": {
            "tags": []
          }
        },
        {
          "output_type": "stream",
          "text": [
            "\n",
            "Extracting ./sample_data/MNIST/raw/t10k-images-idx3-ubyte.gz to ./sample_data/MNIST/raw\n",
            "\n",
            "Downloading http://yann.lecun.com/exdb/mnist/t10k-labels-idx1-ubyte.gz\n",
            "Downloading http://yann.lecun.com/exdb/mnist/t10k-labels-idx1-ubyte.gz to ./sample_data/MNIST/raw/t10k-labels-idx1-ubyte.gz\n"
          ],
          "name": "stdout"
        },
        {
          "output_type": "display_data",
          "data": {
            "application/vnd.jupyter.widget-view+json": {
              "model_id": "1909ea16659049669c843f49f4c4089f",
              "version_minor": 0,
              "version_major": 2
            },
            "text/plain": [
              "HBox(children=(FloatProgress(value=0.0, max=4542.0), HTML(value='')))"
            ]
          },
          "metadata": {
            "tags": []
          }
        },
        {
          "output_type": "stream",
          "text": [
            "\n",
            "Extracting ./sample_data/MNIST/raw/t10k-labels-idx1-ubyte.gz to ./sample_data/MNIST/raw\n",
            "\n"
          ],
          "name": "stdout"
        },
        {
          "output_type": "stream",
          "text": [
            "/usr/local/lib/python3.7/dist-packages/torchvision/datasets/mnist.py:498: UserWarning: The given NumPy array is not writeable, and PyTorch does not support non-writeable tensors. This means you can write to the underlying (supposedly non-writeable) NumPy array using the tensor. You may want to copy the array to protect its data or make it writeable before converting it to a tensor. This type of warning will be suppressed for the rest of this program. (Triggered internally at  /pytorch/torch/csrc/utils/tensor_numpy.cpp:180.)\n",
            "  return torch.from_numpy(parsed.astype(m[2], copy=False)).view(*s)\n"
          ],
          "name": "stderr"
        }
      ]
    },
    {
      "cell_type": "code",
      "metadata": {
        "colab": {
          "base_uri": "https://localhost:8080/"
        },
        "id": "MaNsz8m_NG9y",
        "outputId": "b3e95772-d656-4aa8-abd4-66f02519cdfd"
      },
      "source": [
        "len(dataset)"
      ],
      "execution_count": 7,
      "outputs": [
        {
          "output_type": "execute_result",
          "data": {
            "text/plain": [
              "60000"
            ]
          },
          "metadata": {
            "tags": []
          },
          "execution_count": 7
        }
      ]
    },
    {
      "cell_type": "code",
      "metadata": {
        "id": "g6vHO26pQZ0v"
      },
      "source": [
        "test_dataset = MNIST(root='./sample_data',download=True,train=False,transform =ToTensor())"
      ],
      "execution_count": 8,
      "outputs": []
    },
    {
      "cell_type": "code",
      "metadata": {
        "colab": {
          "base_uri": "https://localhost:8080/"
        },
        "id": "AdmwUMFqQpax",
        "outputId": "746eafca-d3d7-4cb0-edd0-f34b9147d919"
      },
      "source": [
        "len(test_dataset)"
      ],
      "execution_count": 9,
      "outputs": [
        {
          "output_type": "execute_result",
          "data": {
            "text/plain": [
              "10000"
            ]
          },
          "metadata": {
            "tags": []
          },
          "execution_count": 9
        }
      ]
    },
    {
      "cell_type": "code",
      "metadata": {
        "id": "YKX3zNc8QrqN"
      },
      "source": [
        "from torch.utils.data import random_split"
      ],
      "execution_count": 10,
      "outputs": []
    },
    {
      "cell_type": "code",
      "metadata": {
        "id": "Ev24uXQfQ1fT"
      },
      "source": [
        "train_ds,val_ds = random_split(dataset,[50000,10000])"
      ],
      "execution_count": 11,
      "outputs": []
    },
    {
      "cell_type": "code",
      "metadata": {
        "colab": {
          "base_uri": "https://localhost:8080/"
        },
        "id": "Q1qYk7xiSaRy",
        "outputId": "226a29de-ba50-4897-cef3-efeae146221e"
      },
      "source": [
        "len(train_ds)"
      ],
      "execution_count": 12,
      "outputs": [
        {
          "output_type": "execute_result",
          "data": {
            "text/plain": [
              "50000"
            ]
          },
          "metadata": {
            "tags": []
          },
          "execution_count": 12
        }
      ]
    },
    {
      "cell_type": "code",
      "metadata": {
        "colab": {
          "base_uri": "https://localhost:8080/"
        },
        "id": "O_Pc8gqxSn_C",
        "outputId": "6d404e5f-d6f2-469a-fe6d-653a675e91d8"
      },
      "source": [
        "train_ds"
      ],
      "execution_count": 13,
      "outputs": [
        {
          "output_type": "execute_result",
          "data": {
            "text/plain": [
              "<torch.utils.data.dataset.Subset at 0x7f35b7eda190>"
            ]
          },
          "metadata": {
            "tags": []
          },
          "execution_count": 13
        }
      ]
    },
    {
      "cell_type": "code",
      "metadata": {
        "id": "kQo2eezjSuqI"
      },
      "source": [
        "image,label = train_ds[0]"
      ],
      "execution_count": 14,
      "outputs": []
    },
    {
      "cell_type": "code",
      "metadata": {
        "colab": {
          "base_uri": "https://localhost:8080/",
          "height": 282
        },
        "id": "-JiLoaqmSbUg",
        "outputId": "fd8b3dfa-2e6a-43e2-875a-8f811ac3b232"
      },
      "source": [
        "plt.imshow(image[0])"
      ],
      "execution_count": 15,
      "outputs": [
        {
          "output_type": "execute_result",
          "data": {
            "text/plain": [
              "<matplotlib.image.AxesImage at 0x7f35b7cccfd0>"
            ]
          },
          "metadata": {
            "tags": []
          },
          "execution_count": 15
        },
        {
          "output_type": "display_data",
          "data": {
            "image/png": "[encoded data removed]",
            "text/plain": [
              "<Figure size 432x288 with 1 Axes>"
            ]
          },
          "metadata": {
            "tags": [],
            "needs_background": "light"
          }
        }
      ]
    },
    {
      "cell_type": "code",
      "metadata": {
        "id": "bn47XUf-S3rC"
      },
      "source": [
        "from torch.utils.data import DataLoader"
      ],
      "execution_count": 16,
      "outputs": []
    },
    {
      "cell_type": "code",
      "metadata": {
        "id": "vwcZnc39TLCF"
      },
      "source": [
        "train_loader = DataLoader(train_ds,batch_size=128,shuffle=True)\n",
        "val_loader = DataLoader(val_ds,batch_size=128*2)"
      ],
      "execution_count": 17,
      "outputs": []
    },
    {
      "cell_type": "code",
      "metadata": {
        "id": "11PSUtnmTuC-"
      },
      "source": [
        "for images,labels in train_loader:\n",
        "  inputs = images.reshape(-1,784)\n",
        "  break"
      ],
      "execution_count": 18,
      "outputs": []
    },
    {
      "cell_type": "code",
      "metadata": {
        "colab": {
          "base_uri": "https://localhost:8080/"
        },
        "id": "-zW6_kHuVVMq",
        "outputId": "e074acf2-16e0-412f-982f-4bc1bb0ca6ea"
      },
      "source": [
        "len(images)"
      ],
      "execution_count": 19,
      "outputs": [
        {
          "output_type": "execute_result",
          "data": {
            "text/plain": [
              "128"
            ]
          },
          "metadata": {
            "tags": []
          },
          "execution_count": 19
        }
      ]
    },
    {
      "cell_type": "code",
      "metadata": {
        "id": "TcpuHfYFVaCB"
      },
      "source": [
        "input_size = inputs.shape[-1]\n",
        "hidden_size = 32"
      ],
      "execution_count": 20,
      "outputs": []
    },
    {
      "cell_type": "code",
      "metadata": {
        "colab": {
          "base_uri": "https://localhost:8080/"
        },
        "id": "spwuOLbjVi2V",
        "outputId": "6031ede0-be50-4e38-b128-d3e270a1b33c"
      },
      "source": [
        "input_size\n"
      ],
      "execution_count": 21,
      "outputs": [
        {
          "output_type": "execute_result",
          "data": {
            "text/plain": [
              "784"
            ]
          },
          "metadata": {
            "tags": []
          },
          "execution_count": 21
        }
      ]
    },
    {
      "cell_type": "code",
      "metadata": {
        "id": "KT8BRhduJEre"
      },
      "source": [
        "from torch.nn import Linear"
      ],
      "execution_count": 22,
      "outputs": []
    },
    {
      "cell_type": "code",
      "metadata": {
        "id": "AAtNyhLbJSOI"
      },
      "source": [
        "layer1 = Linear(input_size,hidden_size)"
      ],
      "execution_count": 23,
      "outputs": []
    },
    {
      "cell_type": "code",
      "metadata": {
        "colab": {
          "base_uri": "https://localhost:8080/"
        },
        "id": "qSRNc_NRJZ5Q",
        "outputId": "52ed0cdc-b681-4bd5-8c1f-aa258320ebdb"
      },
      "source": [
        "layer1.bias"
      ],
      "execution_count": 24,
      "outputs": [
        {
          "output_type": "execute_result",
          "data": {
            "text/plain": [
              "Parameter containing:\n",
              "tensor([-7.2528e-03, -2.1223e-02,  3.4247e-02,  2.1845e-02,  5.0285e-05,\n",
              "         3.8192e-03, -1.8756e-02, -2.8981e-02,  3.4808e-02, -2.2176e-02,\n",
              "        -3.1608e-02, -8.4400e-03, -1.5138e-02,  2.2638e-02,  1.8547e-03,\n",
              "         7.1712e-04, -3.4941e-02,  3.7642e-03,  2.5317e-02, -1.7126e-02,\n",
              "        -2.6717e-03,  2.8399e-02,  1.8385e-02, -2.2181e-02,  3.4154e-02,\n",
              "        -1.3490e-03, -5.1767e-04, -2.2505e-02,  2.5659e-03, -2.9699e-02,\n",
              "         3.1930e-02, -1.5736e-02], requires_grad=True)"
            ]
          },
          "metadata": {
            "tags": []
          },
          "execution_count": 24
        }
      ]
    },
    {
      "cell_type": "code",
      "metadata": {
        "colab": {
          "base_uri": "https://localhost:8080/"
        },
        "id": "hIFWSxt9JffL",
        "outputId": "fdb81708-2978-42df-85fc-dd1ff4fdb4b4"
      },
      "source": [
        "layer1.weight.shape"
      ],
      "execution_count": 25,
      "outputs": [
        {
          "output_type": "execute_result",
          "data": {
            "text/plain": [
              "torch.Size([32, 784])"
            ]
          },
          "metadata": {
            "tags": []
          },
          "execution_count": 25
        }
      ]
    },
    {
      "cell_type": "code",
      "metadata": {
        "colab": {
          "base_uri": "https://localhost:8080/"
        },
        "id": "tQ15Y3nmJyUp",
        "outputId": "b357dae3-3920-4ce1-a2c4-08ebee2b69db"
      },
      "source": [
        "inputs.shape"
      ],
      "execution_count": 26,
      "outputs": [
        {
          "output_type": "execute_result",
          "data": {
            "text/plain": [
              "torch.Size([128, 784])"
            ]
          },
          "metadata": {
            "tags": []
          },
          "execution_count": 26
        }
      ]
    },
    {
      "cell_type": "code",
      "metadata": {
        "id": "LQQP-QXtJ4qg"
      },
      "source": [
        "layer1_outputs = layer1(inputs)"
      ],
      "execution_count": 27,
      "outputs": []
    },
    {
      "cell_type": "code",
      "metadata": {
        "colab": {
          "base_uri": "https://localhost:8080/"
        },
        "id": "B0FynpA-J_ly",
        "outputId": "7be86003-96a1-4bbb-bb55-a7d66dc20795"
      },
      "source": [
        "print(\"layer1 output shape\",layer1_outputs.shape)"
      ],
      "execution_count": 28,
      "outputs": [
        {
          "output_type": "stream",
          "text": [
            "layer1 output shape torch.Size([128, 32])\n"
          ],
          "name": "stdout"
        }
      ]
    },
    {
      "cell_type": "code",
      "metadata": {
        "id": "hCCdN5TUQZh0"
      },
      "source": [
        "import torch.nn.functional as F"
      ],
      "execution_count": 29,
      "outputs": []
    },
    {
      "cell_type": "code",
      "metadata": {
        "id": "EX8nca2IQQOD"
      },
      "source": [
        "relu_outputs = F.relu(layer1_outputs)"
      ],
      "execution_count": 30,
      "outputs": []
    },
    {
      "cell_type": "code",
      "metadata": {
        "colab": {
          "base_uri": "https://localhost:8080/"
        },
        "id": "n9f9cBZmQdLR",
        "outputId": "1de48eea-ff53-41c4-e42f-6573c83780be"
      },
      "source": [
        "relu_outputs.shape"
      ],
      "execution_count": 31,
      "outputs": [
        {
          "output_type": "execute_result",
          "data": {
            "text/plain": [
              "torch.Size([128, 32])"
            ]
          },
          "metadata": {
            "tags": []
          },
          "execution_count": 31
        }
      ]
    },
    {
      "cell_type": "code",
      "metadata": {
        "id": "822unV-6RWE-"
      },
      "source": [
        "output_size = 10"
      ],
      "execution_count": 32,
      "outputs": []
    },
    {
      "cell_type": "code",
      "metadata": {
        "id": "9wuZrmOXRM6X"
      },
      "source": [
        "layer2 = Linear(hidden_size,output_size)"
      ],
      "execution_count": 33,
      "outputs": []
    },
    {
      "cell_type": "code",
      "metadata": {
        "id": "JNY-zHFIRYe5"
      },
      "source": [
        "layer2_outputs = layer2(relu_outputs)"
      ],
      "execution_count": 34,
      "outputs": []
    },
    {
      "cell_type": "code",
      "metadata": {
        "colab": {
          "base_uri": "https://localhost:8080/"
        },
        "id": "Wzue8R9hRdtM",
        "outputId": "2d2626c5-c1ea-4fe3-ab0c-8ea1282bad72"
      },
      "source": [
        "layer2_outputs.shape"
      ],
      "execution_count": 35,
      "outputs": [
        {
          "output_type": "execute_result",
          "data": {
            "text/plain": [
              "torch.Size([128, 10])"
            ]
          },
          "metadata": {
            "tags": []
          },
          "execution_count": 35
        }
      ]
    },
    {
      "cell_type": "code",
      "metadata": {
        "colab": {
          "base_uri": "https://localhost:8080/"
        },
        "id": "nf_WZiOORc3g",
        "outputId": "92d6c4be-5b0f-4097-8284-7dbfcb9712ea"
      },
      "source": [
        "inputs.shape"
      ],
      "execution_count": 36,
      "outputs": [
        {
          "output_type": "execute_result",
          "data": {
            "text/plain": [
              "torch.Size([128, 784])"
            ]
          },
          "metadata": {
            "tags": []
          },
          "execution_count": 36
        }
      ]
    },
    {
      "cell_type": "code",
      "metadata": {
        "id": "ocXS3Ej8RkFY"
      },
      "source": [
        "import torch.nn as nn"
      ],
      "execution_count": 37,
      "outputs": []
    },
    {
      "cell_type": "code",
      "metadata": {
        "id": "_fKPW6tSpeT8"
      },
      "source": [
        "class MnistModel(nn.Module):\n",
        "    \"\"\"Feedfoward neural network with 1 hidden layer\"\"\"\n",
        "    def __init__(self, in_size, hidden_size, out_size):\n",
        "        print(\"in_init\")\n",
        "        super().__init__()\n",
        "        # hidden layer\n",
        "        self.linear1 = nn.Linear(in_size, hidden_size)\n",
        "        # output layer\n",
        "        self.linear2 = nn.Linear(hidden_size, out_size)\n",
        "        \n",
        "    def forward(self, xb):\n",
        "        # print(\"forwards\")\n",
        "        # Flatten the image tensors\n",
        "        xb = xb.view(xb.size(0), -1)\n",
        "        # Get intermediate outputs using hidden layer\n",
        "        out = self.linear1(xb)\n",
        "        # Apply activation function\n",
        "        out = F.relu(out)\n",
        "        # Get predictions using output layer\n",
        "        out = self.linear2(out)\n",
        "        return out\n",
        "    \n",
        "    def training_step(self, batch):\n",
        "        # print(\"training_Step\")\n",
        "        images, labels = batch \n",
        "        out = self(images)                  # Generate predictions\n",
        "        loss = F.cross_entropy(out, labels) # Calculate loss\n",
        "        return loss\n",
        "    \n",
        "    def validation_step(self, batch):\n",
        "        # print(\"validation_step\")\n",
        "        images, labels = batch \n",
        "        out = self(images)                    # Generate predictions\n",
        "        loss = F.cross_entropy(out, labels)   # Calculate loss\n",
        "        acc = accuracy(out, labels)           # Calculate accuracy\n",
        "        return {'val_loss': loss, 'val_acc': acc}\n",
        "        \n",
        "    def validation_epoch_end(self, outputs):\n",
        "        # print(\"val epoch end\")\n",
        "        batch_losses = [x['val_loss'] for x in outputs]\n",
        "        epoch_loss = torch.stack(batch_losses).mean()   # Combine losses\n",
        "        batch_accs = [x['val_acc'] for x in outputs]\n",
        "        epoch_acc = torch.stack(batch_accs).mean()      # Combine accuracies\n",
        "        return {'val_loss': epoch_loss.item(), 'val_acc': epoch_acc.item()}\n",
        "    \n",
        "    def epoch_end(self, epoch, result):\n",
        "        print(\"Epoch [{}], val_loss: {:.4f}, val_acc: {:.4f}\".format(epoch, result['val_loss'], result['val_acc']))"
      ],
      "execution_count": 38,
      "outputs": []
    },
    {
      "cell_type": "code",
      "metadata": {
        "id": "84QuDSfvZfP_"
      },
      "source": [
        ""
      ],
      "execution_count": 38,
      "outputs": []
    },
    {
      "cell_type": "code",
      "metadata": {
        "id": "beSRnIQTpeT8"
      },
      "source": [
        "input_size = 784\n",
        "hidden_size = 32 # you can change this\n",
        "num_classes = 10"
      ],
      "execution_count": 39,
      "outputs": []
    },
    {
      "cell_type": "code",
      "metadata": {
        "id": "IvSp6BFppeT8",
        "colab": {
          "base_uri": "https://localhost:8080/"
        },
        "outputId": "38aefa03-2d34-4f5b-f98a-6d143b4db416"
      },
      "source": [
        "model = MnistModel(input_size, hidden_size=32, out_size=num_classes)"
      ],
      "execution_count": 40,
      "outputs": [
        {
          "output_type": "stream",
          "text": [
            "in_init\n"
          ],
          "name": "stdout"
        }
      ]
    },
    {
      "cell_type": "code",
      "metadata": {
        "colab": {
          "base_uri": "https://localhost:8080/"
        },
        "id": "lHlmPE7KbP7F",
        "outputId": "a4aba4d6-94bd-4b3a-c2dc-52f17b316baf"
      },
      "source": [
        "for t in model.parameters():\n",
        "  print(t[0])"
      ],
      "execution_count": 41,
      "outputs": [
        {
          "output_type": "stream",
          "text": [
            "tensor([-8.9538e-03,  2.2794e-02, -8.5300e-03, -2.5697e-02,  7.5634e-03,\n",
            "         3.9012e-03, -2.4447e-02, -2.4071e-02,  1.2694e-02, -9.9467e-03,\n",
            "        -8.9899e-03, -1.2552e-02, -3.3104e-02,  2.5793e-02, -1.6266e-02,\n",
            "         3.4281e-03,  1.0278e-02, -1.0824e-02, -8.3361e-03,  3.1108e-02,\n",
            "        -3.0096e-02, -5.0620e-03, -1.1145e-02,  1.7216e-02,  3.2137e-02,\n",
            "         2.9419e-02,  9.6889e-03,  2.7011e-02, -2.6976e-02,  3.1240e-02,\n",
            "        -3.2158e-02,  1.9872e-02,  1.3552e-02,  5.5817e-04, -9.1431e-03,\n",
            "         2.4802e-03,  1.3884e-02, -2.0045e-02, -2.1351e-02, -1.5902e-03,\n",
            "        -2.8589e-02, -1.5665e-02,  2.4587e-02, -9.6023e-03, -1.1735e-02,\n",
            "         2.6545e-03, -1.8171e-03,  2.2635e-02,  3.1970e-02,  2.6338e-02,\n",
            "         2.9838e-03,  9.8647e-04,  1.4415e-02,  2.3394e-02, -4.7243e-03,\n",
            "        -1.1137e-02, -7.2476e-03, -2.3224e-03,  1.9382e-02, -1.1277e-02,\n",
            "         1.2584e-02,  3.5225e-03,  2.0855e-02, -1.0143e-02, -2.5700e-02,\n",
            "         2.4958e-03,  2.8664e-02, -2.8173e-02, -2.2485e-02,  1.7838e-02,\n",
            "        -3.1662e-02,  1.7299e-02, -1.4977e-03, -2.7260e-02,  3.0654e-02,\n",
            "         1.5392e-02, -2.2287e-02, -1.3154e-03, -7.7525e-03,  1.6108e-02,\n",
            "         2.8715e-02, -2.3533e-02, -1.6741e-02,  6.3683e-03,  1.3590e-02,\n",
            "         9.6403e-03,  1.7269e-02,  2.2151e-04, -1.7297e-02,  2.0294e-02,\n",
            "         2.3067e-02, -2.7966e-02, -2.6053e-02,  8.5282e-03, -9.3523e-03,\n",
            "         1.7649e-02,  3.2880e-02,  1.1170e-02,  1.8393e-02,  1.2832e-02,\n",
            "         8.0461e-04,  9.8752e-03, -3.4969e-03,  1.4678e-02, -3.3503e-02,\n",
            "        -4.1370e-03, -2.4344e-02, -3.4054e-03,  2.0961e-02, -3.9142e-04,\n",
            "         3.2079e-02, -1.5204e-02, -1.4882e-02,  1.3271e-02, -3.2323e-02,\n",
            "        -3.5311e-02, -3.1334e-02,  2.3595e-02, -7.4063e-03, -8.5989e-03,\n",
            "         8.7580e-03, -5.8632e-03, -1.5608e-02,  1.4743e-02, -3.2263e-02,\n",
            "        -2.5082e-03, -3.3981e-02, -2.6622e-02,  2.9679e-02, -4.0039e-03,\n",
            "         1.7719e-02,  3.5162e-02,  3.2499e-02, -2.6776e-02,  2.1119e-02,\n",
            "         1.5046e-02, -2.3077e-02, -8.4560e-03, -1.8732e-02, -2.6030e-02,\n",
            "         3.0966e-02,  1.9073e-02,  1.4350e-02, -9.4350e-03, -1.9238e-02,\n",
            "        -2.6485e-03, -2.1590e-02,  3.3996e-02,  2.4073e-02, -2.6581e-02,\n",
            "         8.5351e-03,  3.0207e-02,  1.5802e-02,  9.5578e-03,  2.9556e-02,\n",
            "         3.2609e-02,  1.7893e-02, -1.0830e-02,  7.2348e-03, -2.5610e-02,\n",
            "         1.2924e-02,  2.3781e-02,  7.8345e-03, -2.2187e-02, -3.8149e-03,\n",
            "         2.9936e-02,  3.6768e-03, -2.4900e-02, -3.0287e-02,  1.7422e-02,\n",
            "        -1.6966e-02,  1.0981e-02, -1.3604e-03,  1.6542e-02,  2.4285e-02,\n",
            "        -1.2313e-02, -1.7475e-02, -1.4914e-02,  7.1398e-04, -1.6808e-02,\n",
            "         1.9567e-03, -2.8166e-02,  6.1620e-03,  7.3504e-03,  1.9054e-02,\n",
            "        -2.1793e-03,  2.7556e-02, -1.2420e-02, -2.0031e-02, -1.0686e-02,\n",
            "         3.3085e-02, -9.3379e-05, -3.5529e-02, -1.1880e-02, -2.4235e-02,\n",
            "        -1.2154e-02,  1.7133e-02, -5.7637e-03, -1.1581e-02,  9.0914e-04,\n",
            "         2.4528e-02,  2.1708e-02, -3.3636e-03,  2.6049e-02, -1.2498e-02,\n",
            "        -1.3733e-02, -1.9243e-02, -1.2861e-02, -1.4992e-02,  3.0615e-02,\n",
            "         1.9504e-02,  2.7074e-02,  1.8851e-02,  2.7798e-02, -5.2003e-03,\n",
            "        -2.7667e-03,  1.8681e-02, -1.5314e-02, -3.3291e-02, -1.9559e-02,\n",
            "         3.2830e-02, -7.9850e-03, -2.0860e-02,  2.7549e-02, -2.4023e-02,\n",
            "         1.1318e-02, -2.2300e-02,  2.0289e-02, -3.2269e-02, -2.7108e-02,\n",
            "         2.6099e-02, -3.4127e-04, -1.5818e-02,  2.5700e-02,  3.5657e-02,\n",
            "         2.7276e-02,  3.1794e-02, -3.0318e-03, -1.3451e-02, -2.4980e-02,\n",
            "         3.1033e-02,  1.2354e-02, -2.8859e-02,  2.3268e-02, -2.7781e-02,\n",
            "         1.2683e-03, -1.6373e-02,  4.1008e-03,  2.5018e-02,  2.4106e-03,\n",
            "         6.0496e-03, -2.7329e-02,  3.5857e-03,  3.1309e-02,  2.0543e-02,\n",
            "        -1.5837e-02,  5.3089e-03,  3.7059e-03, -7.5807e-03, -3.4134e-02,\n",
            "         2.6183e-02, -5.3535e-03,  1.4048e-02,  3.0437e-02, -1.2957e-02,\n",
            "        -3.3769e-02, -4.8814e-03, -1.6257e-02, -2.1836e-02, -1.1299e-02,\n",
            "         3.8720e-03,  1.4923e-02, -1.6304e-02,  2.6481e-02, -3.5560e-02,\n",
            "         1.1175e-02, -1.3439e-02, -2.3925e-02,  3.4884e-02,  3.1013e-04,\n",
            "         3.4346e-02,  1.9919e-02,  2.1301e-02, -3.1266e-02,  2.7147e-02,\n",
            "         2.7289e-02,  1.1990e-02,  1.1368e-02,  1.7792e-02, -3.2589e-02,\n",
            "        -2.0121e-02,  1.6369e-02,  2.5481e-02, -1.1437e-02,  2.3776e-03,\n",
            "         2.4204e-02, -2.3237e-02,  2.1143e-02,  4.8162e-03,  3.1529e-02,\n",
            "        -2.6461e-02, -2.8988e-02, -3.1653e-02, -2.2032e-03,  1.0956e-02,\n",
            "        -2.7494e-02, -1.4124e-02,  2.7485e-03,  2.2149e-02,  2.9391e-02,\n",
            "        -3.1359e-02,  1.4353e-02, -2.9952e-02,  3.2595e-02,  1.3111e-03,\n",
            "        -3.4862e-02,  1.4128e-02, -7.8580e-03, -1.8329e-02, -1.5772e-02,\n",
            "         1.7004e-02, -1.3085e-02, -7.9727e-03,  1.8937e-03,  3.0081e-02,\n",
            "         3.1523e-02, -1.1139e-02, -5.0372e-03,  1.6521e-03, -5.6313e-03,\n",
            "         1.1172e-02,  7.5786e-03,  2.5699e-03, -7.7915e-03,  2.9475e-02,\n",
            "         3.4277e-02, -2.2685e-02, -3.3184e-02, -2.6362e-02, -2.1899e-02,\n",
            "        -8.9833e-03, -8.5815e-03,  2.6052e-02, -2.6531e-02, -9.1034e-03,\n",
            "         2.0733e-02, -6.2714e-03,  1.3997e-03,  1.4441e-02,  3.2156e-02,\n",
            "         1.2274e-02,  1.3166e-02,  3.2163e-02, -5.1131e-03,  1.2315e-03,\n",
            "         1.5111e-02,  2.0966e-02,  3.4903e-02, -1.0090e-02,  2.6853e-02,\n",
            "         2.6213e-02, -3.2265e-03, -1.1162e-02, -6.8971e-03, -3.3707e-02,\n",
            "         3.1033e-02,  5.0111e-03,  1.3008e-02,  6.1114e-03,  3.2248e-02,\n",
            "         6.4999e-03, -1.2998e-02, -5.2193e-03, -3.2700e-02, -3.4459e-02,\n",
            "         1.6431e-02,  2.7455e-02,  7.3102e-03, -2.4918e-02, -2.0809e-02,\n",
            "        -3.1902e-02,  1.4814e-02,  1.1577e-02,  5.3198e-03, -1.9829e-02,\n",
            "         2.4099e-02, -9.7586e-03, -6.7928e-03, -2.2982e-02,  1.8776e-02,\n",
            "        -2.7015e-02, -3.6985e-03,  1.5083e-02,  2.5787e-02, -3.4110e-02,\n",
            "         1.3447e-02, -2.4929e-02,  8.3109e-03,  7.5993e-03, -9.3714e-03,\n",
            "        -3.1257e-02,  1.6586e-02, -2.5325e-02, -3.5671e-02,  2.6084e-03,\n",
            "        -3.5254e-02,  9.8964e-03,  2.8156e-02, -2.4875e-02,  3.1936e-02,\n",
            "        -5.6602e-03, -3.3155e-02,  3.4644e-02, -3.3038e-02,  3.4235e-02,\n",
            "        -2.5498e-02,  1.8476e-02, -4.9521e-03,  1.3422e-02, -2.8680e-02,\n",
            "        -8.7472e-03,  2.8018e-02,  2.5430e-02, -3.2733e-02, -3.3322e-02,\n",
            "         1.0107e-02, -3.2440e-02, -2.0542e-02,  2.2797e-02, -3.5012e-02,\n",
            "         3.3020e-02, -2.6927e-02,  2.3654e-02,  3.5274e-02, -9.6490e-03,\n",
            "        -3.5456e-03,  5.7873e-04,  3.5024e-02, -2.3668e-02, -2.1807e-02,\n",
            "        -1.8929e-02, -3.0893e-02, -1.9546e-02,  3.5452e-02, -3.3895e-02,\n",
            "         2.7276e-02, -2.7348e-02,  1.8247e-02,  3.9916e-03,  1.3332e-02,\n",
            "        -1.4909e-02, -2.7033e-03,  1.8174e-02,  2.7127e-02,  2.9532e-02,\n",
            "         3.5035e-02, -7.7685e-03, -1.9312e-03,  3.3288e-02,  4.9317e-03,\n",
            "         3.4307e-02, -3.2505e-02, -1.6786e-03, -3.2495e-02, -2.7955e-02,\n",
            "         2.2884e-02,  1.9926e-02,  3.6455e-04, -3.1579e-02, -2.7863e-03,\n",
            "         2.8217e-02,  2.4666e-02, -9.8045e-03,  3.2242e-02, -3.3135e-02,\n",
            "        -1.2523e-03,  3.6843e-03,  9.6813e-03, -5.1571e-03,  2.9457e-02,\n",
            "        -9.9991e-03,  1.2184e-04, -3.1199e-02,  3.3493e-02, -3.0271e-02,\n",
            "        -9.1662e-03,  1.3598e-02,  3.4549e-02, -3.2720e-02, -1.0441e-02,\n",
            "        -6.3712e-03,  2.4853e-02,  3.4745e-02,  2.8937e-02,  2.2254e-03,\n",
            "         2.8233e-03, -1.1245e-02, -5.0320e-03, -3.3567e-02,  1.3355e-02,\n",
            "         2.8542e-03, -3.0617e-02, -2.9108e-02,  1.5837e-02,  2.2916e-02,\n",
            "        -3.4646e-02,  3.2891e-03,  2.9706e-02, -5.7178e-03,  3.3396e-02,\n",
            "        -1.8765e-02, -8.5049e-03, -7.1906e-03, -2.6984e-02, -3.4711e-02,\n",
            "         1.3388e-02,  1.6451e-03,  1.8302e-02,  2.5030e-02, -2.9859e-02,\n",
            "        -4.7320e-03,  1.3316e-03, -2.8214e-02,  2.5309e-02, -1.5682e-02,\n",
            "         3.4638e-02,  6.6459e-03,  2.0385e-02, -5.6009e-04, -7.3305e-03,\n",
            "         3.2435e-02,  2.7375e-02, -1.5474e-02, -8.1824e-03,  3.2081e-02,\n",
            "        -1.6691e-02,  2.6509e-02, -2.3985e-02, -1.0637e-02, -1.1479e-02,\n",
            "        -2.9064e-02, -2.3435e-02,  3.2876e-02, -3.0681e-02, -2.3155e-02,\n",
            "        -1.1903e-02, -3.3996e-02,  3.3762e-02, -1.9613e-04, -2.6333e-02,\n",
            "         1.2812e-02, -1.8046e-02,  2.5618e-02, -1.8199e-02, -1.7172e-02,\n",
            "         1.0004e-02, -2.1243e-02,  3.4501e-02,  3.2192e-02, -2.6204e-02,\n",
            "         3.5481e-02, -1.2272e-02, -2.9347e-02,  3.0312e-02, -3.5299e-02,\n",
            "        -3.1019e-02, -2.1633e-02,  1.1713e-02, -2.1752e-02, -1.6799e-03,\n",
            "        -5.3072e-03, -1.6530e-02, -3.1561e-02,  9.8048e-03,  1.8019e-02,\n",
            "         3.7393e-03, -2.8118e-02, -2.1649e-02, -3.2843e-02,  1.3762e-02,\n",
            "        -6.7923e-03,  1.1405e-02,  2.6756e-02, -1.7141e-02,  2.8587e-02,\n",
            "         1.9264e-02, -2.7866e-02,  1.0001e-02,  8.3718e-03, -3.3081e-02,\n",
            "        -2.8945e-02,  2.0196e-02,  1.8073e-02, -2.4106e-02,  3.0991e-02,\n",
            "         2.8155e-02,  1.1677e-02, -1.4212e-02, -7.9679e-03, -5.5529e-03,\n",
            "        -9.4012e-03,  9.4255e-03, -2.7440e-02,  1.7867e-02,  2.6622e-03,\n",
            "        -2.0134e-02,  2.2676e-02,  4.3965e-03, -2.7657e-02, -3.4141e-02,\n",
            "         3.0600e-02, -3.0739e-02, -1.2877e-02,  1.8209e-02,  1.2807e-02,\n",
            "         1.9471e-02, -2.6342e-02,  2.6131e-02, -2.3070e-02, -4.2966e-03,\n",
            "        -1.1507e-02, -2.7128e-02, -1.2736e-02, -1.4378e-02,  7.6605e-04,\n",
            "        -3.9284e-03, -2.0818e-02, -1.3567e-02, -2.2941e-02,  3.0364e-03,\n",
            "         1.3653e-02,  8.4633e-03, -1.4472e-02, -1.1293e-02, -2.0379e-02,\n",
            "         2.0096e-02, -1.7677e-02, -3.3679e-02, -4.2433e-03, -9.5369e-03,\n",
            "         1.8389e-02, -2.4740e-02, -1.6734e-02, -2.8518e-02, -3.4275e-02,\n",
            "         1.3844e-02,  5.4008e-03, -1.1404e-02,  7.1173e-03, -1.5876e-02,\n",
            "        -1.1180e-02,  3.5533e-02,  3.4180e-02, -1.3609e-02,  2.1696e-02,\n",
            "        -3.1933e-02,  1.6477e-02,  3.5362e-02, -4.6835e-03,  3.0736e-02,\n",
            "        -2.2959e-02,  2.3013e-02, -7.6320e-03, -3.3386e-02, -1.9835e-02,\n",
            "         6.2148e-03, -6.2355e-03,  1.2463e-02,  2.5934e-02, -1.4905e-02,\n",
            "        -1.4854e-02,  3.5155e-02, -1.6692e-03, -2.3429e-02,  1.9421e-02,\n",
            "         1.0467e-02,  2.2672e-02,  4.6841e-03,  3.5868e-03, -2.2562e-02,\n",
            "        -1.0615e-02, -3.5519e-02,  3.1981e-02, -1.4766e-02, -2.3814e-02,\n",
            "         8.7254e-04,  8.3229e-03, -3.4601e-02, -1.4706e-02,  1.8511e-02,\n",
            "        -2.9808e-02, -8.7423e-03, -1.0282e-02, -2.2176e-02, -9.5442e-03,\n",
            "        -2.9162e-02,  8.0356e-03, -3.1164e-02,  5.0092e-03,  1.2816e-02,\n",
            "         1.8321e-02, -3.2124e-02,  1.3520e-02,  1.8687e-02, -5.6816e-03,\n",
            "        -2.2909e-02, -1.5481e-02, -3.3183e-02, -2.6474e-03, -3.4855e-02,\n",
            "         3.0149e-03,  3.0140e-04, -6.9070e-03, -6.4569e-05, -1.4435e-03,\n",
            "         2.0719e-02, -1.5709e-02,  3.4668e-02, -2.2284e-03, -2.0866e-02,\n",
            "        -1.5453e-02, -3.2894e-02,  3.3604e-02,  2.8225e-02, -7.4781e-03,\n",
            "         3.5184e-02,  1.7199e-02,  1.6143e-02,  2.9944e-02, -2.9829e-02,\n",
            "         1.3278e-02,  3.0461e-02,  1.5268e-02, -1.0350e-03, -1.3816e-02,\n",
            "        -2.3245e-02, -3.5607e-02,  2.9020e-03, -3.2457e-03, -2.3671e-02,\n",
            "        -1.7778e-02, -2.0219e-02, -4.6765e-03,  2.1117e-02, -3.1348e-02,\n",
            "         8.8270e-04,  2.1861e-02,  2.8097e-02,  1.2422e-02,  1.1996e-02,\n",
            "         2.9791e-02,  9.5324e-03, -2.4513e-03,  4.1765e-03,  4.2375e-03,\n",
            "         1.6079e-02, -1.1598e-02, -1.3302e-02,  1.5238e-02, -1.2187e-02,\n",
            "         1.3777e-02,  3.0190e-02,  2.1430e-02,  3.4210e-03, -3.0686e-02,\n",
            "         1.8282e-02, -1.3534e-02,  1.8424e-02,  7.4735e-03,  2.0982e-02,\n",
            "        -3.8646e-03,  1.7779e-02, -1.1004e-02, -1.5756e-03, -3.4078e-02,\n",
            "         3.4559e-02, -3.4439e-02, -1.3594e-02, -3.4264e-02, -3.4978e-02,\n",
            "         2.0995e-02,  3.2003e-02, -8.8531e-03, -2.6012e-02],\n",
            "       grad_fn=<SelectBackward>)\n",
            "tensor(-0.0257, grad_fn=<SelectBackward>)\n",
            "tensor([-0.1649, -0.0519, -0.0035, -0.0575, -0.0020, -0.0657, -0.0815,  0.1269,\n",
            "         0.0543, -0.1437,  0.1231, -0.0711, -0.0758, -0.0620,  0.0386,  0.0114,\n",
            "         0.1327,  0.1014,  0.0921,  0.1627,  0.1606,  0.1713,  0.0706,  0.0580,\n",
            "         0.0278, -0.1042, -0.0233, -0.1311, -0.0297, -0.1725,  0.1701, -0.0632],\n",
            "       grad_fn=<SelectBackward>)\n",
            "tensor(0.0365, grad_fn=<SelectBackward>)\n"
          ],
          "name": "stdout"
        }
      ]
    },
    {
      "cell_type": "code",
      "metadata": {
        "colab": {
          "base_uri": "https://localhost:8080/",
          "height": 265
        },
        "id": "2RqI4zZjf3pL",
        "outputId": "109981b2-30ec-4ec3-f9d6-4c3f229c0b42"
      },
      "source": [
        "for images,labels in train_loader:\n",
        "  plt.imshow(images[0][0])\n",
        "  break"
      ],
      "execution_count": 42,
      "outputs": [
        {
          "output_type": "display_data",
          "data": {
            "image/png": "[encoded data removed]",
            "text/plain": [
              "<Figure size 432x288 with 1 Axes>"
            ]
          },
          "metadata": {
            "tags": [],
            "needs_background": "light"
          }
        }
      ]
    },
    {
      "cell_type": "code",
      "metadata": {
        "colab": {
          "base_uri": "https://localhost:8080/"
        },
        "id": "m6BXQ-ayZitk",
        "outputId": "10a4a201-8834-44ae-8446-4e498220ec7e"
      },
      "source": [
        "for images, labels in train_loader:\n",
        "    # print(images)\n",
        "    \n",
        "    outputs = model(images)\n",
        "    \n",
        "    loss = F.cross_entropy(outputs, labels)\n",
        "    print('Loss:', loss.item())\n",
        "    break\n",
        "\n",
        "print('outputs.shape : ', outputs.shape)\n",
        "print('Sample outputs :\\n', outputs[:2].data)"
      ],
      "execution_count": 43,
      "outputs": [
        {
          "output_type": "stream",
          "text": [
            "Loss: 2.3279457092285156\n",
            "outputs.shape :  torch.Size([128, 10])\n",
            "Sample outputs :\n",
            " tensor([[ 0.1395,  0.0035, -0.1336, -0.0005, -0.1469,  0.1937,  0.2368,  0.1527,\n",
            "          0.0997,  0.1366],\n",
            "        [ 0.0957,  0.1266, -0.1980, -0.0740, -0.2896,  0.1523,  0.1401,  0.0496,\n",
            "         -0.0226,  0.2293]])\n"
          ],
          "name": "stdout"
        }
      ]
    },
    {
      "cell_type": "code",
      "metadata": {
        "colab": {
          "base_uri": "https://localhost:8080/"
        },
        "id": "cHIEyrhnaUER",
        "outputId": "25b307af-1b4e-4426-a0f9-17b707cf561f"
      },
      "source": [
        "torch.cuda.is_available()\n",
        "    "
      ],
      "execution_count": 44,
      "outputs": [
        {
          "output_type": "execute_result",
          "data": {
            "text/plain": [
              "False"
            ]
          },
          "metadata": {
            "tags": []
          },
          "execution_count": 44
        }
      ]
    },
    {
      "cell_type": "code",
      "metadata": {
        "colab": {
          "base_uri": "https://localhost:8080/"
        },
        "id": "69rs92u0hIAC",
        "outputId": "dcab1862-bed3-4b85-96b1-235e65887221"
      },
      "source": [
        "model.parameters"
      ],
      "execution_count": 45,
      "outputs": [
        {
          "output_type": "execute_result",
          "data": {
            "text/plain": [
              "<bound method Module.parameters of MnistModel(\n",
              "  (linear1): Linear(in_features=784, out_features=32, bias=True)\n",
              "  (linear2): Linear(in_features=32, out_features=10, bias=True)\n",
              ")>"
            ]
          },
          "metadata": {
            "tags": []
          },
          "execution_count": 45
        }
      ]
    },
    {
      "cell_type": "markdown",
      "metadata": {
        "id": "LmqvcM1Be3pk"
      },
      "source": [
        "Training\n"
      ]
    },
    {
      "cell_type": "code",
      "metadata": {
        "id": "VEzSoA6gVFMv"
      },
      "source": [
        "def accuracy(outputs, labels):\n",
        "    _, preds = torch.max(outputs, dim=1)\n",
        "    return torch.tensor(torch.sum(preds == labels).item() / len(preds))"
      ],
      "execution_count": 46,
      "outputs": []
    },
    {
      "cell_type": "code",
      "metadata": {
        "id": "Xelh29CYT7gN"
      },
      "source": [
        "def evaluate(model, val_loader):\n",
        "    \"\"\"Evaluate the model's performance on the validation set\"\"\"\n",
        "    # print(\"in evaluate\")\n",
        "    outputs = [model.validation_step(batch) for batch in val_loader]\n",
        "    # print(outputs[0])\n",
        "    return model.validation_epoch_end(outputs)"
      ],
      "execution_count": 47,
      "outputs": []
    },
    {
      "cell_type": "code",
      "metadata": {
        "id": "x6weINTEkZQK"
      },
      "source": [
        "def fit(epochs,lr,model,train_loader,val_loader,opt_func = torch.optim.SGD):\n",
        "  print(\"in fit\")\n",
        "  history = []\n",
        "  optimizer = opt_func(model.parameters(),lr)\n",
        "  for epoch in range(epochs):\n",
        "    for batch in train_loader:\n",
        "      loss = model.training_step(batch)\n",
        "      loss.backward()\n",
        "      optimizer.step()\n",
        "      optimizer.zero_grad()\n",
        "    for i in model.parameters():\n",
        "        print(i)\n",
        "        break \n",
        "    result =evaluate(model,val_loader)\n",
        "    model.epoch_end(epoch,result)\n",
        "    history.append(result)\n",
        "  return history"
      ],
      "execution_count": 48,
      "outputs": []
    },
    {
      "cell_type": "code",
      "metadata": {
        "id": "MZ03sZyJeg0D"
      },
      "source": [
        ""
      ],
      "execution_count": 48,
      "outputs": []
    },
    {
      "cell_type": "code",
      "metadata": {
        "id": "_HPRH2nldLys"
      },
      "source": [
        ""
      ],
      "execution_count": 48,
      "outputs": []
    },
    {
      "cell_type": "code",
      "metadata": {
        "colab": {
          "base_uri": "https://localhost:8080/"
        },
        "id": "j__EoRQLUKXh",
        "outputId": "57e1e569-7594-48c0-b8b2-117dbb6e0997"
      },
      "source": [
        "history = [evaluate(model, val_loader)]\n",
        "history"
      ],
      "execution_count": 49,
      "outputs": [
        {
          "output_type": "execute_result",
          "data": {
            "text/plain": [
              "[{'val_acc': 0.08339843899011612, 'val_loss': 2.315669059753418}]"
            ]
          },
          "metadata": {
            "tags": []
          },
          "execution_count": 49
        }
      ]
    },
    {
      "cell_type": "code",
      "metadata": {
        "colab": {
          "base_uri": "https://localhost:8080/"
        },
        "id": "TY_jAjKkYBsS",
        "outputId": "44660565-39b3-4095-b8e5-27ac442cc2dc"
      },
      "source": [
        "history"
      ],
      "execution_count": 50,
      "outputs": [
        {
          "output_type": "execute_result",
          "data": {
            "text/plain": [
              "[{'val_acc': 0.08339843899011612, 'val_loss': 2.315669059753418}]"
            ]
          },
          "metadata": {
            "tags": []
          },
          "execution_count": 50
        }
      ]
    },
    {
      "cell_type": "code",
      "metadata": {
        "colab": {
          "base_uri": "https://localhost:8080/"
        },
        "id": "x0-WLWJRcpX4",
        "outputId": "e9060d10-9bb2-47fa-dad0-9a54b13ff7e5"
      },
      "source": [
        "history"
      ],
      "execution_count": 51,
      "outputs": [
        {
          "output_type": "execute_result",
          "data": {
            "text/plain": [
              "[{'val_acc': 0.08339843899011612, 'val_loss': 2.315669059753418}]"
            ]
          },
          "metadata": {
            "tags": []
          },
          "execution_count": 51
        }
      ]
    },
    {
      "cell_type": "code",
      "metadata": {
        "colab": {
          "base_uri": "https://localhost:8080/"
        },
        "id": "Cd8FcxOUbQl_",
        "outputId": "4a3c48e1-9566-483b-c9e7-8763e69c83b5"
      },
      "source": [
        "history += fit(5, 0.5, model, train_loader, val_loader)"
      ],
      "execution_count": 52,
      "outputs": [
        {
          "output_type": "stream",
          "text": [
            "in fit\n",
            "Parameter containing:\n",
            "tensor([[-0.0090,  0.0228, -0.0085,  ...,  0.0320, -0.0089, -0.0260],\n",
            "        [ 0.0050,  0.0135, -0.0144,  ...,  0.0272,  0.0143,  0.0273],\n",
            "        [-0.0012,  0.0028, -0.0268,  ...,  0.0318,  0.0169,  0.0248],\n",
            "        ...,\n",
            "        [ 0.0099, -0.0208, -0.0008,  ..., -0.0032,  0.0354,  0.0165],\n",
            "        [ 0.0051,  0.0085, -0.0336,  ...,  0.0339,  0.0292,  0.0085],\n",
            "        [-0.0252, -0.0151,  0.0066,  ..., -0.0059, -0.0037,  0.0162]],\n",
            "       requires_grad=True)\n",
            "Epoch [0], val_loss: 0.2328, val_acc: 0.9309\n",
            "Parameter containing:\n",
            "tensor([[-0.0090,  0.0228, -0.0085,  ...,  0.0320, -0.0089, -0.0260],\n",
            "        [ 0.0050,  0.0135, -0.0144,  ...,  0.0272,  0.0143,  0.0273],\n",
            "        [-0.0012,  0.0028, -0.0268,  ...,  0.0318,  0.0169,  0.0248],\n",
            "        ...,\n",
            "        [ 0.0099, -0.0208, -0.0008,  ..., -0.0032,  0.0354,  0.0165],\n",
            "        [ 0.0051,  0.0085, -0.0336,  ...,  0.0339,  0.0292,  0.0085],\n",
            "        [-0.0252, -0.0151,  0.0066,  ..., -0.0059, -0.0037,  0.0162]],\n",
            "       requires_grad=True)\n",
            "Epoch [1], val_loss: 0.1926, val_acc: 0.9442\n",
            "Parameter containing:\n",
            "tensor([[-0.0090,  0.0228, -0.0085,  ...,  0.0320, -0.0089, -0.0260],\n",
            "        [ 0.0050,  0.0135, -0.0144,  ...,  0.0272,  0.0143,  0.0273],\n",
            "        [-0.0012,  0.0028, -0.0268,  ...,  0.0318,  0.0169,  0.0248],\n",
            "        ...,\n",
            "        [ 0.0099, -0.0208, -0.0008,  ..., -0.0032,  0.0354,  0.0165],\n",
            "        [ 0.0051,  0.0085, -0.0336,  ...,  0.0339,  0.0292,  0.0085],\n",
            "        [-0.0252, -0.0151,  0.0066,  ..., -0.0059, -0.0037,  0.0162]],\n",
            "       requires_grad=True)\n",
            "Epoch [2], val_loss: 0.1557, val_acc: 0.9524\n",
            "Parameter containing:\n",
            "tensor([[-0.0090,  0.0228, -0.0085,  ...,  0.0320, -0.0089, -0.0260],\n",
            "        [ 0.0050,  0.0135, -0.0144,  ...,  0.0272,  0.0143,  0.0273],\n",
            "        [-0.0012,  0.0028, -0.0268,  ...,  0.0318,  0.0169,  0.0248],\n",
            "        ...,\n",
            "        [ 0.0099, -0.0208, -0.0008,  ..., -0.0032,  0.0354,  0.0165],\n",
            "        [ 0.0051,  0.0085, -0.0336,  ...,  0.0339,  0.0292,  0.0085],\n",
            "        [-0.0252, -0.0151,  0.0066,  ..., -0.0059, -0.0037,  0.0162]],\n",
            "       requires_grad=True)\n",
            "Epoch [3], val_loss: 0.1353, val_acc: 0.9605\n",
            "Parameter containing:\n",
            "tensor([[-0.0090,  0.0228, -0.0085,  ...,  0.0320, -0.0089, -0.0260],\n",
            "        [ 0.0050,  0.0135, -0.0144,  ...,  0.0272,  0.0143,  0.0273],\n",
            "        [-0.0012,  0.0028, -0.0268,  ...,  0.0318,  0.0169,  0.0248],\n",
            "        ...,\n",
            "        [ 0.0099, -0.0208, -0.0008,  ..., -0.0032,  0.0354,  0.0165],\n",
            "        [ 0.0051,  0.0085, -0.0336,  ...,  0.0339,  0.0292,  0.0085],\n",
            "        [-0.0252, -0.0151,  0.0066,  ..., -0.0059, -0.0037,  0.0162]],\n",
            "       requires_grad=True)\n",
            "Epoch [4], val_loss: 0.1341, val_acc: 0.9611\n"
          ],
          "name": "stdout"
        }
      ]
    },
    {
      "cell_type": "code",
      "metadata": {
        "colab": {
          "base_uri": "https://localhost:8080/"
        },
        "id": "kCF49jrpeiLH",
        "outputId": "01a56675-773b-4f1b-dbab-d623963f0036"
      },
      "source": [
        "history += fit(5, 0.1, model, train_loader, val_loader)"
      ],
      "execution_count": 53,
      "outputs": [
        {
          "output_type": "stream",
          "text": [
            "in fit\n",
            "Parameter containing:\n",
            "tensor([[-0.0090,  0.0228, -0.0085,  ...,  0.0320, -0.0089, -0.0260],\n",
            "        [ 0.0050,  0.0135, -0.0144,  ...,  0.0272,  0.0143,  0.0273],\n",
            "        [-0.0012,  0.0028, -0.0268,  ...,  0.0318,  0.0169,  0.0248],\n",
            "        ...,\n",
            "        [ 0.0099, -0.0208, -0.0008,  ..., -0.0032,  0.0354,  0.0165],\n",
            "        [ 0.0051,  0.0085, -0.0336,  ...,  0.0339,  0.0292,  0.0085],\n",
            "        [-0.0252, -0.0151,  0.0066,  ..., -0.0059, -0.0037,  0.0162]],\n",
            "       requires_grad=True)\n",
            "Epoch [0], val_loss: 0.1171, val_acc: 0.9646\n",
            "Parameter containing:\n",
            "tensor([[-0.0090,  0.0228, -0.0085,  ...,  0.0320, -0.0089, -0.0260],\n",
            "        [ 0.0050,  0.0135, -0.0144,  ...,  0.0272,  0.0143,  0.0273],\n",
            "        [-0.0012,  0.0028, -0.0268,  ...,  0.0318,  0.0169,  0.0248],\n",
            "        ...,\n",
            "        [ 0.0099, -0.0208, -0.0008,  ..., -0.0032,  0.0354,  0.0165],\n",
            "        [ 0.0051,  0.0085, -0.0336,  ...,  0.0339,  0.0292,  0.0085],\n",
            "        [-0.0252, -0.0151,  0.0066,  ..., -0.0059, -0.0037,  0.0162]],\n",
            "       requires_grad=True)\n",
            "Epoch [1], val_loss: 0.1156, val_acc: 0.9656\n",
            "Parameter containing:\n",
            "tensor([[-0.0090,  0.0228, -0.0085,  ...,  0.0320, -0.0089, -0.0260],\n",
            "        [ 0.0050,  0.0135, -0.0144,  ...,  0.0272,  0.0143,  0.0273],\n",
            "        [-0.0012,  0.0028, -0.0268,  ...,  0.0318,  0.0169,  0.0248],\n",
            "        ...,\n",
            "        [ 0.0099, -0.0208, -0.0008,  ..., -0.0032,  0.0354,  0.0165],\n",
            "        [ 0.0051,  0.0085, -0.0336,  ...,  0.0339,  0.0292,  0.0085],\n",
            "        [-0.0252, -0.0151,  0.0066,  ..., -0.0059, -0.0037,  0.0162]],\n",
            "       requires_grad=True)\n",
            "Epoch [2], val_loss: 0.1158, val_acc: 0.9651\n",
            "Parameter containing:\n",
            "tensor([[-0.0090,  0.0228, -0.0085,  ...,  0.0320, -0.0089, -0.0260],\n",
            "        [ 0.0050,  0.0135, -0.0144,  ...,  0.0272,  0.0143,  0.0273],\n",
            "        [-0.0012,  0.0028, -0.0268,  ...,  0.0318,  0.0169,  0.0248],\n",
            "        ...,\n",
            "        [ 0.0099, -0.0208, -0.0008,  ..., -0.0032,  0.0354,  0.0165],\n",
            "        [ 0.0051,  0.0085, -0.0336,  ...,  0.0339,  0.0292,  0.0085],\n",
            "        [-0.0252, -0.0151,  0.0066,  ..., -0.0059, -0.0037,  0.0162]],\n",
            "       requires_grad=True)\n",
            "Epoch [3], val_loss: 0.1150, val_acc: 0.9646\n",
            "Parameter containing:\n",
            "tensor([[-0.0090,  0.0228, -0.0085,  ...,  0.0320, -0.0089, -0.0260],\n",
            "        [ 0.0050,  0.0135, -0.0144,  ...,  0.0272,  0.0143,  0.0273],\n",
            "        [-0.0012,  0.0028, -0.0268,  ...,  0.0318,  0.0169,  0.0248],\n",
            "        ...,\n",
            "        [ 0.0099, -0.0208, -0.0008,  ..., -0.0032,  0.0354,  0.0165],\n",
            "        [ 0.0051,  0.0085, -0.0336,  ...,  0.0339,  0.0292,  0.0085],\n",
            "        [-0.0252, -0.0151,  0.0066,  ..., -0.0059, -0.0037,  0.0162]],\n",
            "       requires_grad=True)\n",
            "Epoch [4], val_loss: 0.1132, val_acc: 0.9662\n"
          ],
          "name": "stdout"
        }
      ]
    },
    {
      "cell_type": "code",
      "metadata": {
        "id": "rRRUk4FFfN2m"
      },
      "source": [
        ""
      ],
      "execution_count": 53,
      "outputs": []
    },
    {
      "cell_type": "code",
      "metadata": {
        "colab": {
          "base_uri": "https://localhost:8080/",
          "height": 295
        },
        "id": "I3g-DRifpeT9",
        "outputId": "504da3b9-89a6-45a1-8e31-06b279618c4c"
      },
      "source": [
        "losses = [x['val_loss'] for x in history]\n",
        "plt.plot(losses, '-x')\n",
        "plt.xlabel('epoch')\n",
        "plt.ylabel('loss')\n",
        "plt.title('Loss vs. No. of epochs');"
      ],
      "execution_count": 54,
      "outputs": [
        {
          "output_type": "display_data",
          "data": {
            "image/png": "[encoded data removed]",
            "text/plain": [
              "<Figure size 432x288 with 1 Axes>"
            ]
          },
          "metadata": {
            "tags": [],
            "needs_background": "light"
          }
        }
      ]
    },
    {
      "cell_type": "code",
      "metadata": {
        "colab": {
          "base_uri": "https://localhost:8080/"
        },
        "id": "eXUuK7JGgLNG",
        "outputId": "78b2b68d-c3bd-4b9e-ae80-1ad2efff41ff"
      },
      "source": [
        "layer2_outputs.shape"
      ],
      "execution_count": 55,
      "outputs": [
        {
          "output_type": "execute_result",
          "data": {
            "text/plain": [
              "torch.Size([128, 10])"
            ]
          },
          "metadata": {
            "tags": []
          },
          "execution_count": 55
        }
      ]
    },
    {
      "cell_type": "code",
      "metadata": {
        "colab": {
          "base_uri": "https://localhost:8080/"
        },
        "id": "D-22X4cahJ8T",
        "outputId": "299de07d-3d99-4c98-86be-ef146cb7c9a4"
      },
      "source": [
        "layer2_outputs"
      ],
      "execution_count": 56,
      "outputs": [
        {
          "output_type": "execute_result",
          "data": {
            "text/plain": [
              "tensor([[ 0.0561, -0.1253, -0.0353,  ..., -0.0586, -0.1716,  0.0871],\n",
              "        [ 0.1212, -0.1390,  0.0779,  ...,  0.0240, -0.1086,  0.0452],\n",
              "        [ 0.1306, -0.1438, -0.0596,  ..., -0.1093, -0.2022,  0.1660],\n",
              "        ...,\n",
              "        [ 0.1343, -0.2087, -0.0548,  ..., -0.1137, -0.1585,  0.1616],\n",
              "        [ 0.1847, -0.1364, -0.1593,  ..., -0.1448, -0.1888,  0.2122],\n",
              "        [ 0.0779, -0.1504, -0.0440,  ..., -0.0226, -0.2347,  0.1717]],\n",
              "       grad_fn=<AddmmBackward>)"
            ]
          },
          "metadata": {
            "tags": []
          },
          "execution_count": 56
        }
      ]
    },
    {
      "cell_type": "code",
      "metadata": {
        "colab": {
          "base_uri": "https://localhost:8080/"
        },
        "id": "np26zpzxgMXd",
        "outputId": "a153745a-e625-4619-8ad3-f540b138961c"
      },
      "source": [
        "labels.shape"
      ],
      "execution_count": 57,
      "outputs": [
        {
          "output_type": "execute_result",
          "data": {
            "text/plain": [
              "torch.Size([128])"
            ]
          },
          "metadata": {
            "tags": []
          },
          "execution_count": 57
        }
      ]
    },
    {
      "cell_type": "code",
      "metadata": {
        "colab": {
          "base_uri": "https://localhost:8080/"
        },
        "id": "Z6axNO2chNnV",
        "outputId": "0f1ba7e3-86ea-4d12-dbc4-9af73a692e4b"
      },
      "source": [
        "labels"
      ],
      "execution_count": 58,
      "outputs": [
        {
          "output_type": "execute_result",
          "data": {
            "text/plain": [
              "tensor([3, 8, 4, 3, 0, 3, 2, 0, 3, 3, 0, 0, 7, 7, 3, 2, 9, 3, 9, 4, 4, 9, 1, 1,\n",
              "        0, 4, 6, 9, 5, 3, 3, 5, 8, 8, 0, 3, 3, 8, 4, 4, 0, 9, 7, 4, 2, 6, 2, 8,\n",
              "        9, 9, 1, 4, 8, 5, 4, 4, 0, 1, 3, 9, 0, 6, 0, 3, 1, 6, 2, 4, 5, 4, 0, 9,\n",
              "        1, 6, 5, 3, 5, 8, 4, 6, 1, 4, 4, 6, 9, 0, 9, 4, 0, 3, 9, 1, 9, 7, 9, 8,\n",
              "        8, 6, 9, 1, 8, 1, 4, 4, 1, 0, 9, 7, 4, 4, 9, 7, 4, 3, 5, 7, 5, 8, 8, 6,\n",
              "        2, 8, 5, 7, 8, 7, 5, 9])"
            ]
          },
          "metadata": {
            "tags": []
          },
          "execution_count": 58
        }
      ]
    },
    {
      "cell_type": "code",
      "metadata": {
        "id": "DZi6jrroghZC"
      },
      "source": [
        "loss = torch.nn.functional.cross_entropy\n",
        "input = torch.randn(3, 5, requires_grad=True)\n",
        "target = torch.randint(5, (3,), dtype=torch.int64)\n"
      ],
      "execution_count": 59,
      "outputs": []
    },
    {
      "cell_type": "code",
      "metadata": {
        "colab": {
          "base_uri": "https://localhost:8080/"
        },
        "id": "Rm9glP_4gz4B",
        "outputId": "72469236-c368-495e-c1ef-f131de90f197"
      },
      "source": [
        "input.shape"
      ],
      "execution_count": 60,
      "outputs": [
        {
          "output_type": "execute_result",
          "data": {
            "text/plain": [
              "torch.Size([3, 5])"
            ]
          },
          "metadata": {
            "tags": []
          },
          "execution_count": 60
        }
      ]
    },
    {
      "cell_type": "code",
      "metadata": {
        "colab": {
          "base_uri": "https://localhost:8080/"
        },
        "id": "2UHBptFWg1Ao",
        "outputId": "be1e09a9-d381-4023-cd95-15f1d907990b"
      },
      "source": [
        "target.shape"
      ],
      "execution_count": 61,
      "outputs": [
        {
          "output_type": "execute_result",
          "data": {
            "text/plain": [
              "torch.Size([3])"
            ]
          },
          "metadata": {
            "tags": []
          },
          "execution_count": 61
        }
      ]
    },
    {
      "cell_type": "code",
      "metadata": {
        "colab": {
          "base_uri": "https://localhost:8080/"
        },
        "id": "EUD8D24Wg6j0",
        "outputId": "1c53aed8-8590-47ee-a0b9-da58f8131745"
      },
      "source": [
        "target"
      ],
      "execution_count": 62,
      "outputs": [
        {
          "output_type": "execute_result",
          "data": {
            "text/plain": [
              "tensor([0, 4, 1])"
            ]
          },
          "metadata": {
            "tags": []
          },
          "execution_count": 62
        }
      ]
    },
    {
      "cell_type": "code",
      "metadata": {
        "colab": {
          "base_uri": "https://localhost:8080/"
        },
        "id": "xF2u_lCnQbwG",
        "outputId": "a5a86080-ad4a-457e-a046-37e82bbf6271"
      },
      "source": [
        "test_dataset"
      ],
      "execution_count": 63,
      "outputs": [
        {
          "output_type": "execute_result",
          "data": {
            "text/plain": [
              "Dataset MNIST\n",
              "    Number of datapoints: 10000\n",
              "    Root location: ./sample_data\n",
              "    Split: Test\n",
              "    StandardTransform\n",
              "Transform: ToTensor()"
            ]
          },
          "metadata": {
            "tags": []
          },
          "execution_count": 63
        }
      ]
    },
    {
      "cell_type": "markdown",
      "metadata": {
        "id": "mIZinDofQdn9"
      },
      "source": [
        "Now lets test on sample data"
      ]
    },
    {
      "cell_type": "code",
      "metadata": {
        "id": "Bz8hoQukQcj4"
      },
      "source": [
        "test_image,test_label = test_dataset[0]"
      ],
      "execution_count": 64,
      "outputs": []
    },
    {
      "cell_type": "code",
      "metadata": {
        "colab": {
          "base_uri": "https://localhost:8080/",
          "height": 282
        },
        "id": "q7jTlNtfQ9gM",
        "outputId": "c671f022-151e-4601-f54e-68f0d2cd8040"
      },
      "source": [
        "plt.imshow(test_image[0])"
      ],
      "execution_count": 66,
      "outputs": [
        {
          "output_type": "execute_result",
          "data": {
            "text/plain": [
              "<matplotlib.image.AxesImage at 0x7f35b763a050>"
            ]
          },
          "metadata": {
            "tags": []
          },
          "execution_count": 66
        },
        {
          "output_type": "display_data",
          "data": {
            "image/png": "[encoded data removed]",
            "text/plain": [
              "<Figure size 432x288 with 1 Axes>"
            ]
          },
          "metadata": {
            "tags": [],
            "needs_background": "light"
          }
        }
      ]
    },
    {
      "cell_type": "code",
      "metadata": {
        "colab": {
          "base_uri": "https://localhost:8080/"
        },
        "id": "ppdrAhK_RCMK",
        "outputId": "46095b24-8c8f-4a5a-ce70-d9b46f79a4a5"
      },
      "source": [
        "model(test_image)"
      ],
      "execution_count": 67,
      "outputs": [
        {
          "output_type": "execute_result",
          "data": {
            "text/plain": [
              "tensor([[  0.1590,  -2.5854,   6.0912,   4.9459, -10.5364,  -0.2451,  -8.9289,\n",
              "          14.8965,   0.1299,   0.9113]], grad_fn=<AddmmBackward>)"
            ]
          },
          "metadata": {
            "tags": []
          },
          "execution_count": 67
        }
      ]
    },
    {
      "cell_type": "code",
      "metadata": {
        "id": "KdBm8anORVk1"
      },
      "source": [
        "_,preds = torch.max(model(test_image),dim=1)"
      ],
      "execution_count": 72,
      "outputs": []
    },
    {
      "cell_type": "code",
      "metadata": {
        "colab": {
          "base_uri": "https://localhost:8080/"
        },
        "id": "O6TOpvfEReWD",
        "outputId": "7e4d2f3e-6d8a-4bc4-bff5-a2f663eaa46a"
      },
      "source": [
        "preds[0].item()"
      ],
      "execution_count": 76,
      "outputs": [
        {
          "output_type": "execute_result",
          "data": {
            "text/plain": [
              "7"
            ]
          },
          "metadata": {
            "tags": []
          },
          "execution_count": 76
        }
      ]
    },
    {
      "cell_type": "code",
      "metadata": {
        "colab": {
          "base_uri": "https://localhost:8080/"
        },
        "id": "xBuhMLKoRmW_",
        "outputId": "d1a2ae11-a75f-4945-9112-1dd25fff1a7a"
      },
      "source": [
        "test_label"
      ],
      "execution_count": 75,
      "outputs": [
        {
          "output_type": "execute_result",
          "data": {
            "text/plain": [
              "7"
            ]
          },
          "metadata": {
            "tags": []
          },
          "execution_count": 75
        }
      ]
    }
  ]
}